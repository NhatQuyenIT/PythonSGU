{
 "cells": [
  {
   "cell_type": "code",
   "execution_count": 2,
   "id": "e0f4da41",
   "metadata": {},
   "outputs": [
    {
     "name": "stdout",
     "output_type": "stream",
     "text": [
      "<class 'numpy.ndarray'>\n",
      "(3,)\n",
      "1 2 3\n",
      "6\n",
      "2.0\n",
      "0.816496580927726\n"
     ]
    }
   ],
   "source": [
    "import numpy as np\n",
    "\n",
    "a = np.array([1,2,3]) # Tạo mảng 1 chiều\n",
    "print(type(a)) # Kiểu dữ liệu\n",
    "print(a.shape) # Kích thước mảng\n",
    "print(a[0], a[1], a[2]) # Truy cập phần tử\n",
    "# a[0] = 5 # Thay đổi giá trị phần tử\n",
    "# print(a)\n",
    "# Numpy arrays hỗ trợ nhiều hàm toán học\n",
    "print(np.sum(a)) # Tổng các phần tử\n",
    "print(np.mean(a)) # Giá trị trung bình\n",
    "print(np.std(a)) # Độ lệch chuẩn"
   ]
  },
  {
   "cell_type": "code",
   "execution_count": 4,
   "id": "45e8478f",
   "metadata": {},
   "outputs": [
    {
     "name": "stdout",
     "output_type": "stream",
     "text": [
      "(2, 3)\n",
      "1 2 4\n",
      "[[9 2 3]\n",
      " [4 5 6]]\n",
      "9\n",
      "2\n"
     ]
    }
   ],
   "source": [
    "b = np.array([[1,2,3],[4,5,6]]) # Tạo mảng 2 chiều\n",
    "print(b.shape) # Kích thước mảng\n",
    "print(b[0,0], b[0,1], b[1,0]) # Truy cập phần tử\n",
    "b[0,0] = 9 # Thay đổi giá trị phần tử\n",
    "print(b)\n",
    "# Numpy arrays hỗ trợ nhiều hàm toán học\n",
    "print(np.max(b)) # Giá trị lớn nhất\n",
    "print(np.min(b)) # Giá trị nhỏ nhất"
   ]
  },
  {
   "cell_type": "code",
   "execution_count": 8,
   "id": "77d36906",
   "metadata": {},
   "outputs": [
    {
     "name": "stdout",
     "output_type": "stream",
     "text": [
      "[[0. 0. 0.]\n",
      " [0. 0. 0.]]\n",
      "[[1. 1. 1. 1.]\n",
      " [1. 1. 1. 1.]\n",
      " [1. 1. 1. 1.]]\n"
     ]
    }
   ],
   "source": [
    "b = np.zeros((2,3)) # Tạo mảng 2 chiều toàn số 0\n",
    "print(b)\n",
    "c = np.ones((3,4)) # Tạo mảng 3 chiều toàn số 1\n",
    "print(c)"
   ]
  },
  {
   "cell_type": "code",
   "execution_count": 12,
   "id": "9916cf79",
   "metadata": {},
   "outputs": [
    {
     "name": "stdout",
     "output_type": "stream",
     "text": [
      "[[1 0 0]\n",
      " [0 3 0]\n",
      " [0 0 4]]\n"
     ]
    }
   ],
   "source": [
    "print(np.diag([1, 3, 4])) # Lấy đường chéo chính"
   ]
  },
  {
   "cell_type": "code",
   "execution_count": 13,
   "id": "dff45b96",
   "metadata": {},
   "outputs": [
    {
     "name": "stdout",
     "output_type": "stream",
     "text": [
      "[1 5 9]\n",
      "[2 6]\n",
      "[4 8]\n"
     ]
    }
   ],
   "source": [
    "b = np.array([[1, 2, 3],\n",
    "              [4, 5, 6],\n",
    "              [7, 8, 9]])\n",
    "\n",
    "print(np.diag(b))      # lấy đường chéo chính\n",
    "print(np.diag(b, 1))   # lấy đường chéo trên\n",
    "print(np.diag(b, -1))  # lấy đường chéo dưới"
   ]
  },
  {
   "cell_type": "code",
   "execution_count": null,
   "id": "051ca7f6",
   "metadata": {},
   "outputs": [
    {
     "name": "stdout",
     "output_type": "stream",
     "text": [
      "[0 2 4 6 8]\n",
      "[0.  1.5 3.  4.5 6.  7.5 9. ]\n"
     ]
    }
   ],
   "source": [
    "arr1 = np.arange(0,10,2)\n",
    "print(arr1) # Tạo mảng từ 0 đến 10, bước nhảy 2\n",
    "arr2 = np.arange(0,10,1.5)\n",
    "print(arr2) # Tạo mảng từ 0 đến 10, bước nhảy 1.5"
   ]
  },
  {
   "cell_type": "code",
   "execution_count": 18,
   "id": "0a533860",
   "metadata": {},
   "outputs": [
    {
     "name": "stdout",
     "output_type": "stream",
     "text": [
      "[0.   0.25 0.5  0.75 1.  ]\n"
     ]
    }
   ],
   "source": [
    "arr3 = np.linspace(0,1,5)\n",
    "print(arr3) # Tạo mảng từ 0 đến 1, gồm 5 phần tử"
   ]
  },
  {
   "cell_type": "code",
   "execution_count": 20,
   "id": "0271f7fc",
   "metadata": {},
   "outputs": [
    {
     "name": "stdout",
     "output_type": "stream",
     "text": [
      "Data:\n",
      " [1 1 2 3 3 3 4 5 5]\n",
      "Histogram:\n",
      " [2 1 3 1 2]\n",
      "Bin edges:\n",
      " [1.  1.8 2.6 3.4 4.2 5. ]\n"
     ]
    }
   ],
   "source": [
    "# data = np.random.randn(2,3) # Tạo mảng 2 chiều với các phần tử ngẫu nhiên\n",
    "data = np.array([1,1,2,3,3,3,4,5,5])\n",
    "hist, bin_edges = np.histogram(data, bins=5) # Tạo histogram với 5 bins\n",
    "print(\"Data:\\n\", data)\n",
    "print(\"Histogram:\\n\", hist)\n",
    "print(\"Bin edges:\\n\", bin_edges)"
   ]
  },
  {
   "cell_type": "code",
   "execution_count": 21,
   "id": "afbb4118",
   "metadata": {},
   "outputs": [
    {
     "name": "stdout",
     "output_type": "stream",
     "text": [
      "[[-2.   1. ]\n",
      " [ 1.5 -0.5]]\n",
      "-2.0000000000000004\n"
     ]
    }
   ],
   "source": [
    "A = np.array([[1,2],[3,4]])\n",
    "print(np.linalg.inv(A)) # Ma trận nghịch đảo của ma trận vuông\n",
    "print(np.linalg.det(A)) # Định thức của ma trận"
   ]
  },
  {
   "cell_type": "code",
   "execution_count": 23,
   "id": "a1a21a0d",
   "metadata": {},
   "outputs": [
    {
     "name": "stdout",
     "output_type": "stream",
     "text": [
      "Coefficients: [1.3 0.8]\n"
     ]
    }
   ],
   "source": [
    "x = np.array([0,1,2,3])\n",
    "y = np.array([1,2,3,5])\n",
    "coeffs = np.polyfit(x, y, 1) # Hồi quy đa thức bậc 1 (tuyến tính)\n",
    "print(\"Coefficients:\", coeffs)"
   ]
  },
  {
   "cell_type": "code",
   "execution_count": 33,
   "id": "3c22d323",
   "metadata": {},
   "outputs": [
    {
     "data": {
      "text/plain": [
       "array([[1., 0., 0.],\n",
       "       [0., 1., 0.],\n",
       "       [0., 0., 1.]])"
      ]
     },
     "execution_count": 33,
     "metadata": {},
     "output_type": "execute_result"
    }
   ],
   "source": [
    "np.eye(3) # Ma trận đơn vị 3x3"
   ]
  },
  {
   "cell_type": "code",
   "execution_count": 36,
   "id": "a7305284",
   "metadata": {},
   "outputs": [
    {
     "data": {
      "text/plain": [
       "array([[1., 0., 0., 0., 0.],\n",
       "       [0., 1., 0., 0., 0.],\n",
       "       [0., 0., 1., 0., 0.]])"
      ]
     },
     "execution_count": 36,
     "metadata": {},
     "output_type": "execute_result"
    }
   ],
   "source": [
    "np.eye(3,5) # Ma trận đơn vị 3x5"
   ]
  },
  {
   "cell_type": "code",
   "execution_count": 37,
   "id": "33730710",
   "metadata": {},
   "outputs": [
    {
     "data": {
      "text/plain": [
       "array([[0., 1., 0., 0.],\n",
       "       [0., 0., 1., 0.],\n",
       "       [0., 0., 0., 1.],\n",
       "       [0., 0., 0., 0.]])"
      ]
     },
     "execution_count": 37,
     "metadata": {},
     "output_type": "execute_result"
    }
   ],
   "source": [
    "np.eye(4, k=1) # Ma trận đơn vị 4x4, dịch chuyển đường chéo chính lên trên 1"
   ]
  },
  {
   "cell_type": "code",
   "execution_count": 38,
   "id": "eced826b",
   "metadata": {},
   "outputs": [
    {
     "data": {
      "text/plain": [
       "array([[0., 0., 0., 0.],\n",
       "       [1., 0., 0., 0.],\n",
       "       [0., 1., 0., 0.],\n",
       "       [0., 0., 1., 0.]])"
      ]
     },
     "execution_count": 38,
     "metadata": {},
     "output_type": "execute_result"
    }
   ],
   "source": [
    "np.eye(4, k=-1) # Ma trận đơn vị 4x4, dịch chuyển đường chéo chính xuống dưới 1"
   ]
  },
  {
   "cell_type": "code",
   "execution_count": 39,
   "id": "b8c659f5",
   "metadata": {},
   "outputs": [
    {
     "data": {
      "text/plain": [
       "array([[1, 0, 0],\n",
       "       [0, 1, 0],\n",
       "       [0, 0, 1]])"
      ]
     },
     "execution_count": 39,
     "metadata": {},
     "output_type": "execute_result"
    }
   ],
   "source": [
    "np.eye(3, dtype=int) # Ma trận đơn vị 3x3, kiểu int"
   ]
  },
  {
   "cell_type": "code",
   "execution_count": 46,
   "id": "5faa83d7",
   "metadata": {},
   "outputs": [
    {
     "data": {
      "text/plain": [
       "array([[ 0,  1,  2,  3,  4,  5],\n",
       "       [ 6,  7,  8,  9, 10, 11]])"
      ]
     },
     "execution_count": 46,
     "metadata": {},
     "output_type": "execute_result"
    }
   ],
   "source": [
    "a = np.arange(12)\n",
    "# a.reshape(3,4) # Chuyển đổi mảng 1 chiều thành mảng 2 chiều 3x4\n",
    "# a.reshape(3,4, order='F') # Chuyển đổi mảng 1 chiều thành mảng 2 chiều 3x4 theo cột\n",
    "a.reshape(2,-1) # Tự động tính toán kích thước chiều còn lại"
   ]
  },
  {
   "cell_type": "code",
   "execution_count": 47,
   "id": "28f7fe49",
   "metadata": {},
   "outputs": [
    {
     "data": {
      "text/plain": [
       "array([[1, 4],\n",
       "       [2, 5],\n",
       "       [3, 6]])"
      ]
     },
     "execution_count": 47,
     "metadata": {},
     "output_type": "execute_result"
    }
   ],
   "source": [
    "a = np.array([[1,2,3],[4,5,6]])\n",
    "# print(a.ravel()) # Chuyển đổi mảng nhiều chiều thành mảng 1 chiều\n",
    "# print(a.flatten()) # Chuyển đổi mảng nhiều chiều thành mảng 1 chiều, tương tự như ravel nhưng luôn trả về bản sao\n",
    "# print(a.T) # Chuyển vị ma trận\n",
    "np.transpose(a) # Chuyển vị ma trận, tương tự như a.T"
   ]
  },
  {
   "cell_type": "code",
   "execution_count": null,
   "id": "429a8409",
   "metadata": {},
   "outputs": [
    {
     "name": "stdout",
     "output_type": "stream",
     "text": [
      "[1 2 3 4 5 6]\n"
     ]
    }
   ],
   "source": [
    "a = np.array([1,2,3])\n",
    "b = np.array([4,5,6])\n",
    "\n",
    "# c = np.vstack((a,b)) # Ghép mảng theo chiều dọc\n",
    "# c = np.hstack((a,b)) # Ghép mảng theo chiều ngang\n",
    "c = np.concatenate((a,b)) # Ghép mảng theo chiều ngang chỉ 1 chiều\n",
    "print(c)"
   ]
  },
  {
   "cell_type": "code",
   "execution_count": 51,
   "id": "118e69f8",
   "metadata": {},
   "outputs": [
    {
     "name": "stdout",
     "output_type": "stream",
     "text": [
      "[[1 2]\n",
      " [3 4]\n",
      " [5 6]]\n"
     ]
    }
   ],
   "source": [
    "a = np.array([[1,2],[3,4]])\n",
    "b  = np.array([[5,6]])\n",
    "\n",
    "print(np.concatenate((a,b), axis=0)) # Ghép theo chiều dọc"
   ]
  },
  {
   "cell_type": "code",
   "execution_count": null,
   "id": "1b83885e",
   "metadata": {},
   "outputs": [
    {
     "name": "stdout",
     "output_type": "stream",
     "text": [
      "[[1 2 5]\n",
      " [3 4 6]]\n"
     ]
    }
   ],
   "source": [
    "a = np.array([[1,2],[3,4]])\n",
    "b  = np.array([[5],[6]])\n",
    "print(np.concatenate((a,b), axis=1)) # Ghép theo chiều ngang theo 2 chiều"
   ]
  },
  {
   "cell_type": "code",
   "execution_count": 12,
   "id": "86d8a6a4",
   "metadata": {},
   "outputs": [
    {
     "name": "stdout",
     "output_type": "stream",
     "text": [
      "[array([0, 1, 2]), array([3, 4, 5]), array([6, 7, 8])]\n"
     ]
    }
   ],
   "source": [
    "a = np.arange(9)\n",
    "# parts = np.array_split(a, 3) # Chia mảng thành 3 phần\n",
    "parts = np.split(a, 3) # Chia mảng thành 3 phần đều nhau\n",
    "print(parts)"
   ]
  },
  {
   "cell_type": "code",
   "execution_count": 13,
   "id": "8a89d08a",
   "metadata": {},
   "outputs": [
    {
     "name": "stdout",
     "output_type": "stream",
     "text": [
      "32\n"
     ]
    }
   ],
   "source": [
    "x = np.array([1,2,3])\n",
    "y = np.array([4,5,6])\n",
    "\n",
    "res = np.dot(x, y) # Tích vô hướng\n",
    "print(res)"
   ]
  },
  {
   "cell_type": "code",
   "execution_count": 14,
   "id": "aa1aa021",
   "metadata": {},
   "outputs": [
    {
     "name": "stdout",
     "output_type": "stream",
     "text": [
      "[[19 22]\n",
      " [43 50]]\n"
     ]
    }
   ],
   "source": [
    "A = np.array([[1,2],[3,4]])\n",
    "B = np.array([[5,6],[7,8]])\n",
    "C = np.dot(A, B) # Tích ma trận\n",
    "print(C)"
   ]
  },
  {
   "cell_type": "code",
   "execution_count": 18,
   "id": "7f9b20a3",
   "metadata": {},
   "outputs": [
    {
     "name": "stdout",
     "output_type": "stream",
     "text": [
      "[[19 22]\n",
      " [43 50]]\n",
      "[[19 22]\n",
      " [43 50]]\n"
     ]
    }
   ],
   "source": [
    "# print(np.multiply(A, B)) # Nhân phần tử tương ứng\n",
    "print(np.matmul(A, B)) # Tích ma trận, tương tự như np.dot(A, B)\n",
    "print(A @ B) # Tích ma trận, tương tự như np.dot(A, B)"
   ]
  },
  {
   "cell_type": "code",
   "execution_count": 19,
   "id": "288ca513",
   "metadata": {},
   "outputs": [
    {
     "name": "stdout",
     "output_type": "stream",
     "text": [
      "[1 2 3 4 5]\n"
     ]
    }
   ],
   "source": [
    "a = np.array([1,2,2,3,4,4,4,5])\n",
    "print(np.unique(a)) # Các phần tử duy nhất trong mảng"
   ]
  },
  {
   "cell_type": "code",
   "execution_count": 20,
   "id": "3f3853b2",
   "metadata": {},
   "outputs": [
    {
     "name": "stdout",
     "output_type": "stream",
     "text": [
      "Unique values: [1 2 3 4 5]\n",
      "Indices: [0 1 1 2 3 3 3 4]\n"
     ]
    }
   ],
   "source": [
    "vals, index = np.unique(a, return_inverse=True) # Các phần tử duy nhất và chỉ số của chúng trong mảng ban đầu\n",
    "print(\"Unique values:\", vals) # Các phần tử duy nhất\n",
    "print(\"Indices:\", index) # Chỉ số của các phần tử duy nhất trong mảng"
   ]
  },
  {
   "cell_type": "code",
   "execution_count": 21,
   "id": "63d217bd",
   "metadata": {},
   "outputs": [
    {
     "name": "stdout",
     "output_type": "stream",
     "text": [
      "Indices: (array([2, 3, 4]),)\n",
      "Values: [30 40 50]\n"
     ]
    }
   ],
   "source": [
    "a = np.array([10, 20, 30, 40, 50])\n",
    "idx = np.where(a > 25) # Chỉ số các phần tử lớn hơn 25\n",
    "print(\"Indices:\", idx)\n",
    "print(\"Values:\", a[idx])"
   ]
  },
  {
   "cell_type": "code",
   "execution_count": 24,
   "id": "16d9bdc1",
   "metadata": {},
   "outputs": [
    {
     "name": "stdout",
     "output_type": "stream",
     "text": [
      "[ -1  -1  60  80 100]\n"
     ]
    }
   ],
   "source": [
    "# res = np.nonzero(a > 25) # Chỉ số các phần tử lớn hơn 25\n",
    "res = np.where(a > 25, a*2, -1) # Nếu chỉ số các phần tử lớn hơn 25 thì gán giá trị a*2, ngược lại gán -1\n",
    "print(res)"
   ]
  },
  {
   "cell_type": "code",
   "execution_count": 31,
   "id": "d27a240d",
   "metadata": {},
   "outputs": [
    {
     "name": "stdout",
     "output_type": "stream",
     "text": [
      "[-2  1  4]\n",
      "[2. 3.]\n",
      "[0.4472136  0.70710678 0.89442719]\n",
      "<class 'numpy.ndarray'> <class 'numpy.ndarray'>\n",
      "Eigenvalues: [3. 2.]\n",
      "Eigenvectors:\n",
      " [[0.89442719 0.70710678]\n",
      " [0.4472136  0.70710678]]\n"
     ]
    }
   ],
   "source": [
    "A = np.array([[4, -2], [1, 1]])\n",
    "w, v = np.linalg.eig(A) # Tính giá trị riêng và vectơ riêng của ma trận\n",
    "print(np.unique(A))\n",
    "print(np.unique(w))\n",
    "print(np.unique(v))\n",
    "print(type(w), type(v))\n",
    "print(\"Eigenvalues:\", w)\n",
    "print(\"Eigenvectors:\\n\", v)"
   ]
  }
 ],
 "metadata": {
  "kernelspec": {
   "display_name": "Python 3",
   "language": "python",
   "name": "python3"
  },
  "language_info": {
   "codemirror_mode": {
    "name": "ipython",
    "version": 3
   },
   "file_extension": ".py",
   "mimetype": "text/x-python",
   "name": "python",
   "nbconvert_exporter": "python",
   "pygments_lexer": "ipython3",
   "version": "3.13.5"
  }
 },
 "nbformat": 4,
 "nbformat_minor": 5
}
