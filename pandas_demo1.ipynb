{
 "cells": [
  {
   "cell_type": "code",
   "execution_count": 2,
   "id": "6bc29f55",
   "metadata": {},
   "outputs": [
    {
     "name": "stdout",
     "output_type": "stream",
     "text": [
      "Ke toan     200\n",
      "Luat        160\n",
      "NgoaiNgu    800\n",
      "CNTT        100\n",
      "dtype: int64\n",
      "Index(['Ke toan', 'Luat', 'NgoaiNgu', 'CNTT'], dtype='object')\n",
      "[200 160 800 100]\n"
     ]
    }
   ],
   "source": [
    "import pandas as pd \n",
    "import numpy as np\n",
    "nganh = [\"Ke toan\", \"Luat\", \"NgoaiNgu\", \"CNTT\"] \n",
    "soluong_sv = [200, 160, 800, 100]\n",
    "S = pd.Series(soluong_sv, index=nganh)\n",
    "print(S) \n",
    "print(S.index) \n",
    "print(S.values)"
   ]
  },
  {
   "cell_type": "code",
   "execution_count": 3,
   "id": "e81a8bd1",
   "metadata": {},
   "outputs": [
    {
     "name": "stdout",
     "output_type": "stream",
     "text": [
      "CNTT        500.0\n",
      "CoKhi         NaN\n",
      "Ke toan       NaN\n",
      "Luat          NaN\n",
      "NgoaiNgu      NaN\n",
      "dtype: float64\n"
     ]
    }
   ],
   "source": [
    "import pandas as pd \n",
    "import numpy as np\n",
    "nganh = [\"Ke toan\", \"Luat\", \"NgoaiNgu\", \"CNTT\"] \n",
    "soluong_sv = [200, 160, 800, 100]\n",
    "S = pd.Series(soluong_sv, index=nganh)\n",
    "# chỉ số giống nhau thì tính gộp, nếu không thì NaN \n",
    "P = pd.Series([300, 400], ['CoKhi', 'CNTT'])\n",
    "Y = S + P\n",
    "print(Y)"
   ]
  },
  {
   "cell_type": "code",
   "execution_count": 4,
   "id": "da7e911b",
   "metadata": {},
   "outputs": [
    {
     "name": "stdout",
     "output_type": "stream",
     "text": [
      "Ke toan      400\n",
      "Luat         360\n",
      "NgoaiNgu    1000\n",
      "CNTT         300\n",
      "dtype: int64\n"
     ]
    }
   ],
   "source": [
    "import pandas as pd \n",
    "import numpy as np\n",
    "nganh = [\"Ke toan\", \"Luat\", \"NgoaiNgu\", \"CNTT\"] \n",
    "soluong_sv = [200, 160, 800, 100]\n",
    "S = pd.Series(soluong_sv, index=nganh)\n",
    "Y = S + 200\n",
    "print(Y)"
   ]
  },
  {
   "cell_type": "code",
   "execution_count": 5,
   "id": "56bace2b",
   "metadata": {},
   "outputs": [
    {
     "name": "stdout",
     "output_type": "stream",
     "text": [
      "City 1    New York\n",
      "City 2     Chicago\n",
      "City 3     Toronto\n",
      "City 4      Lisbon\n",
      "dtype: object\n"
     ]
    },
    {
     "data": {
      "text/plain": [
       "[Index(['City 1', 'City 2', 'City 3', 'City 4'], dtype='object')]"
      ]
     },
     "execution_count": 5,
     "metadata": {},
     "output_type": "execute_result"
    }
   ],
   "source": [
    "import pandas as pd\n",
    "# Creating the Series\n",
    "sr = pd.Series(['New York', 'Chicago', 'Toronto', 'Lisbon']) \n",
    "# Creating the row axis labels\n",
    "sr.index = ['City 1', 'City 2', 'City 3', 'City 4']\n",
    "# Print the series \n",
    "print(sr)\n",
    "# return the element at the first position \n",
    "sr.axes"
   ]
  },
  {
   "cell_type": "code",
   "execution_count": 6,
   "id": "87779bec",
   "metadata": {},
   "outputs": [
    {
     "name": "stdout",
     "output_type": "stream",
     "text": [
      "Ke toan    1310\n",
      "KT         1360\n",
      "CNTT        580\n",
      "Co khi     1340\n",
      "dtype: int64\n",
      "Ke toan    310\n",
      "KT         360\n",
      "CNTT       580\n",
      "Co khi     340\n",
      "dtype: int64\n"
     ]
    }
   ],
   "source": [
    "import pandas as pd \n",
    "import numpy as np \n",
    "def Tang(x):\n",
    "    return x if x > 500 else x + 1000 \n",
    "chi_so = [\"Ke toan\", \"KT\", \"CNTT\", \"Co khi\"] \n",
    "gia_tri = [310, 360, 580, 340]\n",
    "S = pd.Series(gia_tri, chi_so)\n",
    "# áp dụng Tang trên S (không thay đổi S)\n",
    "print(S.apply(Tang))\n",
    "print(S)"
   ]
  },
  {
   "cell_type": "code",
   "execution_count": 7,
   "id": "0bd60b1e",
   "metadata": {},
   "outputs": [
    {
     "name": "stdout",
     "output_type": "stream",
     "text": [
      "          0  1\n",
      "0       MIT  1\n",
      "1  Stanford  2\n"
     ]
    }
   ],
   "source": [
    "names_rank = [['MIT',1],[\"Stanford\",2]]\n",
    "df = pd.DataFrame(names_rank)\n",
    "print(df)"
   ]
  },
  {
   "cell_type": "code",
   "execution_count": 9,
   "id": "77e56da3",
   "metadata": {},
   "outputs": [
    {
     "name": "stdout",
     "output_type": "stream",
     "text": [
      "   col1  col2\n",
      "0     1     3\n",
      "1     2     4\n",
      "col1    int64\n",
      "col2    int64\n",
      "dtype: object\n",
      "col1    int8\n",
      "col2    int8\n",
      "dtype: object\n"
     ]
    }
   ],
   "source": [
    "import pandas as pd\n",
    "d = {'col1': [1, 2], 'col2': [3, 4]}\n",
    "df = pd.DataFrame(data=d)\n",
    "print(df )\n",
    "# check data type \n",
    "print(df.dtypes)\n",
    "# To enforce a single dtype\n",
    "df = pd.DataFrame(d, dtype=np.int8) \n",
    "print(df.dtypes)"
   ]
  },
  {
   "cell_type": "code",
   "execution_count": 10,
   "id": "4ac5e559",
   "metadata": {},
   "outputs": [
    {
     "name": "stdout",
     "output_type": "stream",
     "text": [
      "   Year  Population    Total  Violent\n",
      "0  1960   179323175  3384200   288460\n",
      "1  1961   182992000  3488000   289390\n",
      "2  1962   185771000  3752200   301510\n",
      "3  1963   188483000  4109500   316970\n",
      "4  1964   191141000  4564600   364220\n"
     ]
    }
   ],
   "source": [
    "crimes_rates = { \"Year\":[1960,1961,1962,1963,1964],\n",
    "                \"Population\":[179323175,182992000,185771000,188483000,191141000], \n",
    "                \"Total\":[3384200,3488000,3752200,4109500,4564600], \n",
    "                \"Violent\":[288460,289390,301510,316970,364220]\n",
    "                }\n",
    "crimes_dataframe = pd.DataFrame(crimes_rates) \n",
    "print(crimes_dataframe)"
   ]
  },
  {
   "cell_type": "code",
   "execution_count": 11,
   "id": "dbd4f0af",
   "metadata": {},
   "outputs": [
    {
     "name": "stdout",
     "output_type": "stream",
     "text": [
      "                MIT  Stanford\n",
      "NumOfStudents  5000      4500\n",
      "ranking           1         2\n",
      "int64\n"
     ]
    }
   ],
   "source": [
    "data = [\n",
    "{'MIT': 5000, 'Stanford': 4500},\n",
    "{'MIT': 1, 'Stanford': 2}\n",
    "]\n",
    "df = pd.DataFrame(data, index=['NumOfStudents', \"ranking\"])\n",
    "print(df)\n",
    "print(df.MIT.dtype)"
   ]
  },
  {
   "cell_type": "code",
   "execution_count": 12,
   "id": "d90247b3",
   "metadata": {},
   "outputs": [
    {
     "name": "stdout",
     "output_type": "stream",
     "text": [
      "    one   two\n",
      "1   1.0  1000\n",
      "2  23.0  2400\n",
      "3  45.0  1132\n",
      "4   NaN  3434\n"
     ]
    }
   ],
   "source": [
    "data = {\n",
    "\"one\": pd.Series([1,23,45], index = [1,2,3]),\n",
    "\"two\": pd.Series([1000,2400,1132,3434], index = [1,2,3,4])\n",
    "}\n",
    "df = pd.DataFrame(data) \n",
    "print(df)"
   ]
  },
  {
   "cell_type": "code",
   "execution_count": 13,
   "id": "54342d3b",
   "metadata": {},
   "outputs": [
    {
     "data": {
      "text/html": [
       "<div>\n",
       "<style scoped>\n",
       "    .dataframe tbody tr th:only-of-type {\n",
       "        vertical-align: middle;\n",
       "    }\n",
       "\n",
       "    .dataframe tbody tr th {\n",
       "        vertical-align: top;\n",
       "    }\n",
       "\n",
       "    .dataframe thead th {\n",
       "        text-align: right;\n",
       "    }\n",
       "</style>\n",
       "<table border=\"1\" class=\"dataframe\">\n",
       "  <thead>\n",
       "    <tr style=\"text-align: right;\">\n",
       "      <th></th>\n",
       "      <th>a</th>\n",
       "      <th>b</th>\n",
       "      <th>c</th>\n",
       "    </tr>\n",
       "  </thead>\n",
       "  <tbody>\n",
       "    <tr>\n",
       "      <th>0</th>\n",
       "      <td>1</td>\n",
       "      <td>2</td>\n",
       "      <td>3</td>\n",
       "    </tr>\n",
       "    <tr>\n",
       "      <th>1</th>\n",
       "      <td>4</td>\n",
       "      <td>5</td>\n",
       "      <td>6</td>\n",
       "    </tr>\n",
       "    <tr>\n",
       "      <th>2</th>\n",
       "      <td>7</td>\n",
       "      <td>8</td>\n",
       "      <td>9</td>\n",
       "    </tr>\n",
       "  </tbody>\n",
       "</table>\n",
       "</div>"
      ],
      "text/plain": [
       "   a  b  c\n",
       "0  1  2  3\n",
       "1  4  5  6\n",
       "2  7  8  9"
      ]
     },
     "execution_count": 13,
     "metadata": {},
     "output_type": "execute_result"
    }
   ],
   "source": [
    "df2 = pd.DataFrame(np.array([[1, 2, 3], [4, 5, 6], [7, 8, 9]]), columns=['a', 'b', 'c'])\n",
    "df2"
   ]
  }
 ],
 "metadata": {
  "kernelspec": {
   "display_name": "Python 3",
   "language": "python",
   "name": "python3"
  },
  "language_info": {
   "codemirror_mode": {
    "name": "ipython",
    "version": 3
   },
   "file_extension": ".py",
   "mimetype": "text/x-python",
   "name": "python",
   "nbconvert_exporter": "python",
   "pygments_lexer": "ipython3",
   "version": "3.13.5"
  }
 },
 "nbformat": 4,
 "nbformat_minor": 5
}
