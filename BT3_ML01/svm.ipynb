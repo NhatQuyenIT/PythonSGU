{
 "cells": [
  {
   "cell_type": "markdown",
   "id": "a08dfef2",
   "metadata": {},
   "source": [
    "# Phân loại spam email\n",
    "\n",
    "Dữ liệu: từ khóa trong email, tần suất, độ dài tiêu đề.\n",
    "\n",
    "SVM tìm “siêu phẳng” phân chia spam và không spam.\n",
    "\n",
    "Giúp lọc thư rác trong Gmail, Outlook."
   ]
  },
  {
   "cell_type": "markdown",
   "id": "2d7326b6",
   "metadata": {},
   "source": [
    "## Huấn luyện SVM (Linear SVM) với 3 đặc trưng số"
   ]
  },
  {
   "cell_type": "code",
   "execution_count": 1,
   "id": "678c8cb0",
   "metadata": {},
   "outputs": [],
   "source": [
    "import pandas as pd\n",
    "from sklearn.model_selection import train_test_split\n",
    "from sklearn.preprocessing import StandardScaler\n",
    "from sklearn.svm import LinearSVC\n",
    "from sklearn.pipeline import Pipeline\n",
    "from sklearn.metrics import accuracy_score, classification_report, confusion_matrix"
   ]
  },
  {
   "cell_type": "code",
   "execution_count": 2,
   "id": "dd721706",
   "metadata": {},
   "outputs": [
    {
     "name": "stdout",
     "output_type": "stream",
     "text": [
      "Accuracy: 0.9666666666666667\n",
      "Confusion matrix:\n",
      " [[88  0]\n",
      " [ 5 57]]\n",
      "              precision    recall  f1-score   support\n",
      "\n",
      "           0       0.95      1.00      0.97        88\n",
      "           1       1.00      0.92      0.96        62\n",
      "\n",
      "    accuracy                           0.97       150\n",
      "   macro avg       0.97      0.96      0.97       150\n",
      "weighted avg       0.97      0.97      0.97       150\n",
      "\n"
     ]
    }
   ],
   "source": [
    "# 1) Đọc dữ liệu\n",
    "df = pd.read_csv(\"spam_email_svm.csv\")\n",
    "X = df[[\"KeywordCount\", \"KeywordFreq\", \"SubjectLen\"]]\n",
    "y = df[\"IsSpam\"]\n",
    "\n",
    "# 2) Chia tập train/test\n",
    "X_train, X_test, y_train, y_test = train_test_split(\n",
    "    X, y, test_size=0.25, stratify=y, random_state=42\n",
    ")\n",
    "\n",
    "# 3) Pipeline: Chuẩn hóa + Linear SVM\n",
    "model = Pipeline([\n",
    "    (\"scaler\", StandardScaler()),\n",
    "    (\"svm\", LinearSVC(C=1.0, random_state=42)) # nhanh, hiệu quả cho dữ liệu thưa/đặc trưng số\n",
    "])\n",
    "model.fit(X_train, y_train)\n",
    "\n",
    "# 4) Đánh giá\n",
    "y_pred = model.predict(X_test)\n",
    "print(\"Accuracy:\", accuracy_score(y_test, y_pred))\n",
    "print(\"Confusion matrix:\\n\", confusion_matrix(y_test, y_pred))\n",
    "print(classification_report(y_test, y_pred))"
   ]
  },
  {
   "cell_type": "markdown",
   "id": "052c8d96",
   "metadata": {},
   "source": [
    "## Dự đoán email mới"
   ]
  },
  {
   "cell_type": "code",
   "execution_count": 3,
   "id": "0041ddd6",
   "metadata": {},
   "outputs": [
    {
     "name": "stdout",
     "output_type": "stream",
     "text": [
      "Spam? True\n"
     ]
    }
   ],
   "source": [
    "new_email = pd.DataFrame([{\n",
    "    \"KeywordCount\": 5,\n",
    "    \"KeywordFreq\": 9,     # trên 100 từ\n",
    "    \"SubjectLen\": 32\n",
    "}])\n",
    "\n",
    "pred = model.predict(new_email)[0]\n",
    "print(\"Spam?\" , bool(pred))"
   ]
  },
  {
   "cell_type": "markdown",
   "id": "7cd820cf",
   "metadata": {},
   "source": [
    "# Tùy chọn nâng cao (nếu bạn muốn “giống thực tế” hơn)\n",
    "## A. Lấy xác suất dự đoán (Platt scaling)"
   ]
  },
  {
   "cell_type": "code",
   "execution_count": 4,
   "id": "36ce49d5",
   "metadata": {},
   "outputs": [
    {
     "name": "stdout",
     "output_type": "stream",
     "text": [
      "Ví dụ 10 xác suất đầu: [0.99979735 0.13368306 0.99085949 0.95482187 0.01813564 0.05063842\n",
      " 0.52517136 0.11352224 0.9998621  0.05050412]\n"
     ]
    }
   ],
   "source": [
    "from sklearn.calibration import CalibratedClassifierCV\n",
    "\n",
    "calibrated = CalibratedClassifierCV(model.named_steps[\"svm\"], method=\"sigmoid\", cv=5)\n",
    "# fit lại với dữ liệu đã scale\n",
    "X_train_scaled = model.named_steps[\"scaler\"].fit_transform(X_train)\n",
    "calibrated.fit(X_train_scaled, y_train)\n",
    "\n",
    "# dự đoán xác suất\n",
    "X_test_scaled = model.named_steps[\"scaler\"].transform(X_test)\n",
    "proba = calibrated.predict_proba(X_test_scaled)[:, 1]\n",
    "print(\"Ví dụ 10 xác suất đầu:\", proba[:10])"
   ]
  },
  {
   "cell_type": "markdown",
   "id": "b4aa0747",
   "metadata": {},
   "source": [
    "## B. Kết hợp TF-IDF từ Subject/Body + SVM (thực chiến hơn)"
   ]
  },
  {
   "cell_type": "code",
   "execution_count": 5,
   "id": "828d1da7",
   "metadata": {},
   "outputs": [],
   "source": [
    "from sklearn.feature_extraction.text import TfidfVectorizer\n",
    "from sklearn.compose import ColumnTransformer\n",
    "from sklearn.pipeline import Pipeline\n",
    "from sklearn.svm import LinearSVC"
   ]
  },
  {
   "cell_type": "code",
   "execution_count": 6,
   "id": "120c849f",
   "metadata": {},
   "outputs": [
    {
     "name": "stdout",
     "output_type": "stream",
     "text": [
      "Accuracy: 0.96\n"
     ]
    }
   ],
   "source": [
    "# Vector hóa text + ghép numeric features\n",
    "text_features = [\"Subject\", \"Body\"]\n",
    "num_features = [\"KeywordCount\", \"KeywordFreq\", \"SubjectLen\"]\n",
    "\n",
    "preprocess = ColumnTransformer([\n",
    "    (\"tfidf\", TfidfVectorizer(ngram_range=(1,2), min_df=3), \"Body\"), # có thể dùng cả \"Subject\"\n",
    "    (\"passthrough\", \"passthrough\", num_features)\n",
    "], remainder=\"drop\")\n",
    "\n",
    "clf = Pipeline([\n",
    "    (\"prep\", preprocess),\n",
    "    (\"svm\", LinearSVC(C=1.0, random_state=42))\n",
    "])\n",
    "\n",
    "X_all = df[text_features + num_features]\n",
    "y_all = df[\"IsSpam\"]\n",
    "\n",
    "X_train, X_test, y_train, y_test = train_test_split(\n",
    "    X_all, y_all, test_size=0.25, stratify=y_all, random_state=42\n",
    ")\n",
    "clf.fit(X_train, y_train)\n",
    "print(\"Accuracy:\", clf.score(X_test, y_test))"
   ]
  },
  {
   "cell_type": "markdown",
   "id": "120cdc7f",
   "metadata": {},
   "source": [
    "# Nhận diện cảm xúc trong phim \n",
    "Input: khuôn mặt diễn viên (ảnh). \n",
    "SVM phân loại: vui, buồn, giận dữ, sợ hãi. \n",
    "Dùng trong phân tích hành vi người xem hoặc robot giao tiếp."
   ]
  },
  {
   "cell_type": "markdown",
   "id": "bd2e2e71",
   "metadata": {},
   "source": [
    "## Train/Test SVM + đánh giá"
   ]
  },
  {
   "cell_type": "code",
   "execution_count": 7,
   "id": "b6d771ca",
   "metadata": {},
   "outputs": [],
   "source": [
    "import pandas as pd\n",
    "from sklearn.model_selection import train_test_split\n",
    "from sklearn.preprocessing import StandardScaler\n",
    "from sklearn.svm import SVC\n",
    "from sklearn.pipeline import Pipeline\n",
    "from sklearn.metrics import accuracy_score, classification_report, confusion_matrix"
   ]
  },
  {
   "cell_type": "code",
   "execution_count": 8,
   "id": "37402a2b",
   "metadata": {},
   "outputs": [
    {
     "name": "stdout",
     "output_type": "stream",
     "text": [
      "Accuracy: 1.0\n",
      "Confusion matrix:\n",
      " [[23  0  0  0]\n",
      " [ 0 22  0  0]\n",
      " [ 0  0 23  0]\n",
      " [ 0  0  0 22]]\n",
      "              precision    recall  f1-score   support\n",
      "\n",
      "       angry       1.00      1.00      1.00        23\n",
      "     fearful       1.00      1.00      1.00        22\n",
      "       happy       1.00      1.00      1.00        23\n",
      "         sad       1.00      1.00      1.00        22\n",
      "\n",
      "    accuracy                           1.00        90\n",
      "   macro avg       1.00      1.00      1.00        90\n",
      "weighted avg       1.00      1.00      1.00        90\n",
      "\n"
     ]
    }
   ],
   "source": [
    "# 1) Đọc dữ liệu\n",
    "df = pd.read_csv(\"emotion_embeddings_svm.csv\")\n",
    "X = df.filter(like=\"f\").values    # f000..f063\n",
    "y = df[\"emotion\"].values\n",
    "\n",
    "# 2) Chia tập\n",
    "X_train, X_test, y_train, y_test = train_test_split(\n",
    "    X, y, test_size=0.25, stratify=y, random_state=42\n",
    ")\n",
    "\n",
    "# 3) Pipeline: Chuẩn hóa + SVM RBF (có xác suất)\n",
    "model = Pipeline([\n",
    "    (\"scaler\", StandardScaler(with_mean=False)),  # embeddings đã normalize; with_mean=False giữ ổn định\n",
    "    (\"svm\", SVC(kernel=\"rbf\", C=3.0, gamma=\"scale\", probability=True, random_state=42))\n",
    "])\n",
    "\n",
    "# 4) Huấn luyện\n",
    "model.fit(X_train, y_train)\n",
    "\n",
    "# 5) Đánh giá\n",
    "y_pred = model.predict(X_test)\n",
    "print(\"Accuracy:\", accuracy_score(y_test, y_pred))\n",
    "print(\"Confusion matrix:\\n\", confusion_matrix(y_test, y_pred))\n",
    "print(classification_report(y_test, y_pred))"
   ]
  },
  {
   "cell_type": "markdown",
   "id": "c5e46226",
   "metadata": {},
   "source": [
    "## Dự đoán cho mẫu mới (embedding 64-D)"
   ]
  },
  {
   "cell_type": "code",
   "execution_count": 9,
   "id": "c38a205d",
   "metadata": {},
   "outputs": [
    {
     "name": "stdout",
     "output_type": "stream",
     "text": [
      "Emotion: sad | Confidence: 0.399\n"
     ]
    }
   ],
   "source": [
    "import numpy as np\n",
    "\n",
    "# Ví dụ embedding mới (thay bằng vector thật của bạn)\n",
    "x_new = np.random.normal(0, 1, size=(1, X.shape[1]))\n",
    "x_new = x_new / np.linalg.norm(x_new, axis=1, keepdims=True)\n",
    "\n",
    "pred = model.predict(x_new)[0]\n",
    "proba = model.predict_proba(x_new).max()\n",
    "print(\"Emotion:\", pred, \"| Confidence:\", round(proba, 3))"
   ]
  },
  {
   "cell_type": "markdown",
   "id": "60647f67",
   "metadata": {},
   "source": [
    "## (Tuỳ chọn) Tối ưu nhanh bằng GridSearch"
   ]
  },
  {
   "cell_type": "code",
   "execution_count": 10,
   "id": "86cd7f82",
   "metadata": {},
   "outputs": [
    {
     "name": "stdout",
     "output_type": "stream",
     "text": [
      "Best params: {'svm__C': 1.0, 'svm__gamma': 'scale', 'svm__kernel': 'rbf'} | CV score: 1.0\n"
     ]
    }
   ],
   "source": [
    "from sklearn.model_selection import GridSearchCV\n",
    "\n",
    "params = {\n",
    "    \"svm__C\": [1.0, 3.0, 5.0],\n",
    "    \"svm__gamma\": [\"scale\", 0.01, 0.05, 0.1],\n",
    "    \"svm__kernel\": [\"rbf\"]\n",
    "}\n",
    "grid = GridSearchCV(model, params, cv=5, n_jobs=-1)\n",
    "grid.fit(X, y)\n",
    "print(\"Best params:\", grid.best_params_, \"| CV score:\", grid.best_score_)"
   ]
  }
 ],
 "metadata": {
  "kernelspec": {
   "display_name": "Python 3",
   "language": "python",
   "name": "python3"
  },
  "language_info": {
   "codemirror_mode": {
    "name": "ipython",
    "version": 3
   },
   "file_extension": ".py",
   "mimetype": "text/x-python",
   "name": "python",
   "nbconvert_exporter": "python",
   "pygments_lexer": "ipython3",
   "version": "3.13.5"
  }
 },
 "nbformat": 4,
 "nbformat_minor": 5
}
