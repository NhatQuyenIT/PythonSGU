{
 "cells": [
  {
   "cell_type": "code",
   "execution_count": 1,
   "id": "89000555",
   "metadata": {},
   "outputs": [],
   "source": [
    "import pandas as pd\n",
    "import numpy as np\n",
    "from sklearn.model_selection import train_test_split\n",
    "from sklearn.preprocessing import StandardScaler\n",
    "from sklearn.neighbors import KNeighborsClassifier\n",
    "from sklearn.pipeline import Pipeline\n",
    "from sklearn.metrics import accuracy_score, classification_report, confusion_matrix\n",
    "from sklearn.model_selection import GridSearchCV"
   ]
  },
  {
   "cell_type": "markdown",
   "id": "3d7e89b0",
   "metadata": {},
   "source": [
    "# KNN (K-Nearest Neighbors – Classification/Regression)"
   ]
  },
  {
   "cell_type": "markdown",
   "id": "da6930a9",
   "metadata": {},
   "source": [
    "## 1. Dự đoán bệnh tiểu đường\n",
    "\n",
    "Input: tuổi, cân nặng, mức đường huyết, huyết áp.\n",
    "\n",
    "KNN sẽ tìm các bệnh nhân gần nhất trong dữ liệu huấn luyện để đoán xem người mới có khả năng bị tiểu đường hay không."
   ]
  },
  {
   "cell_type": "code",
   "execution_count": 2,
   "id": "47e723ec",
   "metadata": {},
   "outputs": [
    {
     "name": "stdout",
     "output_type": "stream",
     "text": [
      "Accuracy: 0.8333333333333334\n",
      "Confusion matrix:\n",
      " [[12  3]\n",
      " [ 2 13]]\n",
      "              precision    recall  f1-score   support\n",
      "\n",
      "           0       0.86      0.80      0.83        15\n",
      "           1       0.81      0.87      0.84        15\n",
      "\n",
      "    accuracy                           0.83        30\n",
      "   macro avg       0.83      0.83      0.83        30\n",
      "weighted avg       0.83      0.83      0.83        30\n",
      "\n"
     ]
    }
   ],
   "source": [
    "# 1) Đọc dữ liệu\n",
    "df = pd.read_csv(\"diabetes_knn.csv\")\n",
    "X = df[[\"Age\", \"Weight\", \"Glucose\", \"BloodPressure\"]]\n",
    "y = df[\"Diabetes\"]\n",
    "\n",
    "# 2) Chia tập train/test\n",
    "X_train, X_test, y_train, y_test = train_test_split(\n",
    "    X, y, test_size=0.25, random_state=42, stratify=y\n",
    ")\n",
    "\n",
    "# 3) Tạo pipeline: Chuẩn hóa (StandardScaler) + KNN(k=5)\n",
    "model = Pipeline([\n",
    "    (\"scaler\", StandardScaler()),\n",
    "    (\"knn\", KNeighborsClassifier(n_neighbors=5, weights=\"distance\"))\n",
    "])\n",
    "\n",
    "# 4) Huấn luyện\n",
    "model.fit(X_train, y_train)\n",
    "\n",
    "# 5) Đánh giá\n",
    "y_pred = model.predict(X_test)\n",
    "print(\"Accuracy:\", accuracy_score(y_test, y_pred))\n",
    "print(\"Confusion matrix:\\n\", confusion_matrix(y_test, y_pred))\n",
    "print(classification_report(y_test, y_pred))"
   ]
  },
  {
   "cell_type": "code",
   "execution_count": 3,
   "id": "b05d4fdc",
   "metadata": {},
   "outputs": [
    {
     "name": "stdout",
     "output_type": "stream",
     "text": [
      "Predicted label (0=No, 1=Yes): 1\n",
      "Probability of Diabetes: 0.889\n"
     ]
    }
   ],
   "source": [
    "# Ví dụ bệnh nhân mới:\n",
    "new_patient = pd.DataFrame([{\n",
    "    \"Age\": 45,\n",
    "    \"Weight\": 72,       # kg\n",
    "    \"Glucose\": 145,     # mg/dL\n",
    "    \"BloodPressure\": 88 # mmHg (tâm trương)\n",
    "}])\n",
    "\n",
    "proba = model.predict_proba(new_patient)[0][1]  # xác suất bị tiểu đường (class=1)\n",
    "pred  = model.predict(new_patient)[0]\n",
    "\n",
    "print(\"Predicted label (0=No, 1=Yes):\", int(pred))\n",
    "print(\"Probability of Diabetes:\", round(proba, 3))"
   ]
  },
  {
   "cell_type": "code",
   "execution_count": 4,
   "id": "7d754b1f",
   "metadata": {},
   "outputs": [
    {
     "name": "stdout",
     "output_type": "stream",
     "text": [
      "Best params: {'knn__n_neighbors': 7, 'knn__p': 1, 'knn__weights': 'distance'}\n",
      "Best CV score: 0.7916666666666666\n"
     ]
    }
   ],
   "source": [
    "param_grid = {\n",
    "    \"knn__n_neighbors\": [3,5,7,9,11],\n",
    "    \"knn__weights\": [\"uniform\", \"distance\"],\n",
    "    \"knn__p\": [1,2]  # Manhattan vs Euclidean\n",
    "}\n",
    "\n",
    "grid = GridSearchCV(model, param_grid, cv=5, n_jobs=-1)\n",
    "grid.fit(X, y)\n",
    "print(\"Best params:\", grid.best_params_)\n",
    "print(\"Best CV score:\", grid.best_score_)"
   ]
  },
  {
   "cell_type": "markdown",
   "id": "45ba8f33",
   "metadata": {},
   "source": [
    "## 2. Nhận diện chữ viết tay (MNIST dataset)\n",
    "\n",
    "Input: ảnh chữ số viết tay (0–9).\n",
    "\n",
    "KNN tìm những ảnh gần nhất trong tập huấn luyện.\n",
    "\n",
    "Nếu phần lớn hàng xóm là số 8 → mẫu mới được dự đoán là số 8."
   ]
  },
  {
   "cell_type": "markdown",
   "id": "73707ddd",
   "metadata": {},
   "source": [
    "### Cách 1 — Dùng Keras (tiện, nhanh)"
   ]
  },
  {
   "cell_type": "code",
   "execution_count": 5,
   "id": "d4eab7a6",
   "metadata": {},
   "outputs": [],
   "source": [
    "from tensorflow.keras.datasets import mnist\n",
    "import numpy as np\n",
    "import pandas as pd\n",
    "from sklearn.neighbors import KNeighborsClassifier\n",
    "from sklearn.metrics import accuracy_score, classification_report\n",
    "from sklearn.model_selection import train_test_split\n",
    "from PIL import Image"
   ]
  },
  {
   "cell_type": "code",
   "execution_count": 6,
   "id": "5e2d8f87",
   "metadata": {},
   "outputs": [
    {
     "name": "stderr",
     "output_type": "stream",
     "text": [
      "c:\\Users\\CaRot\\AppData\\Local\\Programs\\Python\\Python313\\Lib\\site-packages\\joblib\\externals\\loky\\backend\\context.py:136: UserWarning: Could not find the number of physical cores for the following reason:\n",
      "[WinError 2] The system cannot find the file specified\n",
      "Returning the number of logical cores instead. You can silence this warning by setting LOKY_MAX_CPU_COUNT to the number of cores you want to use.\n",
      "  warnings.warn(\n",
      "  File \"c:\\Users\\CaRot\\AppData\\Local\\Programs\\Python\\Python313\\Lib\\site-packages\\joblib\\externals\\loky\\backend\\context.py\", line 257, in _count_physical_cores\n",
      "    cpu_info = subprocess.run(\n",
      "        \"wmic CPU Get NumberOfCores /Format:csv\".split(),\n",
      "        capture_output=True,\n",
      "        text=True,\n",
      "    )\n",
      "  File \"c:\\Users\\CaRot\\AppData\\Local\\Programs\\Python\\Python313\\Lib\\subprocess.py\", line 554, in run\n",
      "    with Popen(*popenargs, **kwargs) as process:\n",
      "         ~~~~~^^^^^^^^^^^^^^^^^^^^^^\n",
      "  File \"c:\\Users\\CaRot\\AppData\\Local\\Programs\\Python\\Python313\\Lib\\subprocess.py\", line 1039, in __init__\n",
      "    self._execute_child(args, executable, preexec_fn, close_fds,\n",
      "    ~~~~~~~~~~~~~~~~~~~^^^^^^^^^^^^^^^^^^^^^^^^^^^^^^^^^^^^^^^^^\n",
      "                        pass_fds, cwd, env,\n",
      "                        ^^^^^^^^^^^^^^^^^^^\n",
      "    ...<5 lines>...\n",
      "                        gid, gids, uid, umask,\n",
      "                        ^^^^^^^^^^^^^^^^^^^^^^\n",
      "                        start_new_session, process_group)\n",
      "                        ^^^^^^^^^^^^^^^^^^^^^^^^^^^^^^^^^\n",
      "  File \"c:\\Users\\CaRot\\AppData\\Local\\Programs\\Python\\Python313\\Lib\\subprocess.py\", line 1554, in _execute_child\n",
      "    hp, ht, pid, tid = _winapi.CreateProcess(executable, args,\n",
      "                       ~~~~~~~~~~~~~~~~~~~~~^^^^^^^^^^^^^^^^^^\n",
      "                             # no special security\n",
      "                             ^^^^^^^^^^^^^^^^^^^^^\n",
      "    ...<4 lines>...\n",
      "                             cwd,\n",
      "                             ^^^^\n",
      "                             startupinfo)\n",
      "                             ^^^^^^^^^^^^\n"
     ]
    },
    {
     "name": "stdout",
     "output_type": "stream",
     "text": [
      "Accuracy: 0.9225\n",
      "              precision    recall  f1-score   support\n",
      "\n",
      "           0       0.96      0.99      0.98       175\n",
      "           1       0.90      1.00      0.95       234\n",
      "           2       0.99      0.88      0.93       219\n",
      "           3       0.90      0.92      0.91       207\n",
      "           4       0.95      0.91      0.93       217\n",
      "           5       0.91      0.91      0.91       179\n",
      "           6       0.95      0.97      0.96       178\n",
      "           7       0.90      0.90      0.90       205\n",
      "           8       0.95      0.82      0.88       192\n",
      "           9       0.84      0.93      0.88       194\n",
      "\n",
      "    accuracy                           0.92      2000\n",
      "   macro avg       0.93      0.92      0.92      2000\n",
      "weighted avg       0.93      0.92      0.92      2000\n",
      "\n"
     ]
    }
   ],
   "source": [
    "# 1) Tải MNIST (60k train, 10k test)\n",
    "(x_train, y_train), (x_test, y_test) = mnist.load_data()\n",
    "\n",
    "# 2) Chuyển ảnh 28x28 -> vector 784 & chuẩn hóa [0,1]\n",
    "X_train = x_train.reshape(-1, 28*28).astype(\"float32\") / 255.0\n",
    "X_test  = x_test.reshape(-1, 28*28).astype(\"float32\") / 255.0\n",
    "\n",
    "# (Tùy chọn) Dùng subset cho nhanh: ~10k mẫu\n",
    "X_sub, _, y_sub, _ = train_test_split(X_train, y_train, train_size=10000, stratify=y_train, random_state=42)\n",
    "\n",
    "# 3) KNN\n",
    "knn = KNeighborsClassifier(n_neighbors=3, weights=\"distance\", n_jobs=-1)\n",
    "knn.fit(X_sub, y_sub)\n",
    "\n",
    "# 4) Đánh giá\n",
    "y_pred = knn.predict(X_test[:2000])  # chấm 2k mẫu cho nhanh\n",
    "print(\"Accuracy:\", accuracy_score(y_test[:2000], y_pred))\n",
    "print(classification_report(y_test[:2000], y_pred))"
   ]
  },
  {
   "cell_type": "code",
   "execution_count": 7,
   "id": "bdb680b6",
   "metadata": {},
   "outputs": [
    {
     "name": "stdout",
     "output_type": "stream",
     "text": [
      "Đã lưu mnist_5k_flat.csv\n"
     ]
    }
   ],
   "source": [
    "# Lưu 5k ảnh train: 784 cột pixel + 1 cột label\n",
    "N = 5000\n",
    "df = pd.DataFrame(X_train[:N])\n",
    "df[\"label\"] = y_train[:N]\n",
    "df.to_csv(\"mnist_5k_flat.csv\", index=False)\n",
    "print(\"Đã lưu mnist_5k_flat.csv\")"
   ]
  },
  {
   "cell_type": "code",
   "execution_count": 8,
   "id": "6928b486",
   "metadata": {},
   "outputs": [],
   "source": [
    "import matplotlib.pyplot as plt\n",
    "\n",
    "# Lấy 1 ảnh số viết tay từ tập test\n",
    "sample_img = x_test[0].reshape(28,28) * 255\n",
    "plt.imsave(\"digit.png\", sample_img, cmap=\"gray\")"
   ]
  },
  {
   "cell_type": "code",
   "execution_count": 9,
   "id": "87ad1b86",
   "metadata": {},
   "outputs": [
    {
     "name": "stdout",
     "output_type": "stream",
     "text": [
      "Dự đoán: 7 | Độ tự tin: 0.668\n"
     ]
    }
   ],
   "source": [
    "def load_digit_image(path):\n",
    "    # Đọc ảnh, chuyển grayscale, resize 28x28, scale [0,1]\n",
    "    img = Image.open(path).convert(\"L\").resize((28,28))\n",
    "    arr = np.array(img).astype(\"float32\") / 255.0\n",
    "    return arr.reshape(1, 28*28)\n",
    "\n",
    "x_new = load_digit_image(\"digit.png\")   # ảnh số viết tay nền trắng/đen\n",
    "pred = knn.predict(x_new)[0]\n",
    "proba = knn.predict_proba(x_new).max()\n",
    "print(\"Dự đoán:\", pred, \"| Độ tự tin:\", round(proba, 3))"
   ]
  },
  {
   "cell_type": "markdown",
   "id": "92ccef1e",
   "metadata": {},
   "source": [
    "### Cách 2 — Dùng OpenML (chuẩn MNIST_784, không cần TensorFlow)"
   ]
  },
  {
   "cell_type": "code",
   "execution_count": 10,
   "id": "8a84e82f",
   "metadata": {},
   "outputs": [],
   "source": [
    "from sklearn.datasets import fetch_openml\n",
    "from sklearn.neighbors import KNeighborsClassifier\n",
    "from sklearn.model_selection import train_test_split\n",
    "from sklearn.metrics import accuracy_score\n",
    "import pandas as pd"
   ]
  },
  {
   "cell_type": "code",
   "execution_count": 11,
   "id": "538e00d3",
   "metadata": {},
   "outputs": [
    {
     "name": "stdout",
     "output_type": "stream",
     "text": [
      "Accuracy: 0.9515\n"
     ]
    }
   ],
   "source": [
    "# 1) Tải MNIST_784\n",
    "mnist = fetch_openml(\"mnist_784\", version=1, as_frame=False)  # X: (70000, 784), y: str\n",
    "X = mnist.data.astype(\"float32\") / 255.0\n",
    "y = mnist.target.astype(int)\n",
    "\n",
    "# 2) Chia tập (dùng 12k để demo KNN nhanh)\n",
    "X_train, X_test, y_train, y_test = train_test_split(\n",
    "    X, y, train_size=12000, test_size=2000, stratify=y, random_state=42\n",
    ")\n",
    "\n",
    "# 3) KNN\n",
    "from sklearn.neighbors import KNeighborsClassifier\n",
    "knn = KNeighborsClassifier(n_neighbors=3, weights=\"distance\", n_jobs=-1)\n",
    "knn.fit(X_train, y_train)\n",
    "\n",
    "# 4) Đánh giá\n",
    "pred = knn.predict(X_test)\n",
    "print(\"Accuracy:\", accuracy_score(y_test, pred))"
   ]
  },
  {
   "cell_type": "code",
   "execution_count": 12,
   "id": "1f02e21c",
   "metadata": {},
   "outputs": [
    {
     "name": "stdout",
     "output_type": "stream",
     "text": [
      "Đã lưu mnist_subset_train.csv\n"
     ]
    }
   ],
   "source": [
    "df = pd.DataFrame(X_train)\n",
    "df[\"label\"] = y_train\n",
    "df.to_csv(\"mnist_subset_train.csv\", index=False)\n",
    "print(\"Đã lưu mnist_subset_train.csv\")"
   ]
  },
  {
   "cell_type": "markdown",
   "id": "7a149db0",
   "metadata": {},
   "source": [
    "### Cách 3 (NHẸ, chạy siêu nhanh) — sklearn.datasets.load_digits (8×8, không phải MNIST 28×28)"
   ]
  },
  {
   "cell_type": "code",
   "execution_count": 13,
   "id": "6e7da082",
   "metadata": {},
   "outputs": [],
   "source": [
    "from sklearn.datasets import load_digits\n",
    "from sklearn.model_selection import train_test_split\n",
    "from sklearn.neighbors import KNeighborsClassifier\n",
    "from sklearn.metrics import accuracy_score"
   ]
  },
  {
   "cell_type": "code",
   "execution_count": 14,
   "id": "491f1e28",
   "metadata": {},
   "outputs": [
    {
     "name": "stdout",
     "output_type": "stream",
     "text": [
      "Accuracy: 0.9844444444444445\n"
     ]
    }
   ],
   "source": [
    "digits = load_digits()  # 1797 ảnh, 8x8 = 64 pixels\n",
    "X = digits.data / 16.0  # scale [0,1]\n",
    "y = digits.target\n",
    "\n",
    "X_train, X_test, y_train, y_test = train_test_split(\n",
    "    X, y, test_size=0.25, stratify=y, random_state=42\n",
    ")\n",
    "\n",
    "knn = KNeighborsClassifier(n_neighbors=3, weights=\"distance\")\n",
    "knn.fit(X_train, y_train)\n",
    "print(\"Accuracy:\", accuracy_score(y_test, knn.predict(X_test)))"
   ]
  }
 ],
 "metadata": {
  "kernelspec": {
   "display_name": "Python 3",
   "language": "python",
   "name": "python3"
  },
  "language_info": {
   "codemirror_mode": {
    "name": "ipython",
    "version": 3
   },
   "file_extension": ".py",
   "mimetype": "text/x-python",
   "name": "python",
   "nbconvert_exporter": "python",
   "pygments_lexer": "ipython3",
   "version": "3.13.5"
  }
 },
 "nbformat": 4,
 "nbformat_minor": 5
}
