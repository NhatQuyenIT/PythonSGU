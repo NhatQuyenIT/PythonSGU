{
 "cells": [
  {
   "cell_type": "code",
   "execution_count": 3,
   "id": "81aeb1cf",
   "metadata": {},
   "outputs": [],
   "source": [
    "import numpy as np\n",
    "import pandas as pd"
   ]
  },
  {
   "cell_type": "code",
   "execution_count": 4,
   "id": "41d91003",
   "metadata": {},
   "outputs": [
    {
     "name": "stdout",
     "output_type": "stream",
     "text": [
      "DataFrame ban đầu:\n",
      "       Ngành  Chỉ tiêu tuyển sinh  Điểm chuẩn\n",
      "0    Kế toán                  300          18\n",
      "1  Ngoại ngữ                  200          20\n",
      "2       CNTT                  400          22\n",
      "3       Luật                  550          19\n",
      "4      VH-DL                  800          21\n",
      "\n",
      "\n",
      "DataFrame sau khi áp dụng hàm Giam:\n",
      "       Ngành  Chỉ tiêu tuyển sinh  Điểm chuẩn\n",
      "0    Kế toán                 -300          18\n",
      "1  Ngoại ngữ                 -200          20\n",
      "2       CNTT                 -400          22\n",
      "3       Luật                 -450          19\n",
      "4      VH-DL                 -200          21\n"
     ]
    }
   ],
   "source": [
    "# Câu 1: Tạo DataFrame từ danh sách và áp dụng the series\n",
    "def Giam(x):\n",
    "    return -x if x < 500 else x - 1000\n",
    "\n",
    "nganh = ['Kế toán', 'Ngoại ngữ', 'CNTT', 'Luật', 'VH-DL']\n",
    "chitieu_tuyensinh = [300, 200, 400, 550, 800]\n",
    "diemchuan = [18, 20, 22, 19, 21]\n",
    "\n",
    "S = pd.Series(nganh)\n",
    "C = pd.Series(chitieu_tuyensinh)\n",
    "D = pd.Series(diemchuan)\n",
    "df = pd.DataFrame({'Ngành': S, 'Chỉ tiêu tuyển sinh': C, 'Điểm chuẩn': D})\n",
    "print(\"DataFrame ban đầu:\")\n",
    "print(df)\n",
    "print(\"\\n\")\n",
    "df['Chỉ tiêu tuyển sinh'] = df['Chỉ tiêu tuyển sinh'].apply(Giam)\n",
    "print(\"DataFrame sau khi áp dụng hàm Giam:\")\n",
    "print(df)"
   ]
  },
  {
   "cell_type": "code",
   "execution_count": 5,
   "id": "9620a2ad",
   "metadata": {},
   "outputs": [
    {
     "name": "stdout",
     "output_type": "stream",
     "text": [
      "\n",
      "DataFrame sinh viên:\n",
      "         Họ tên  Điểm TB\n",
      "0  Nguyễn Văn A      8.5\n",
      "1    Trần Thị B      7.0\n",
      "2      Lê Văn C      9.0\n",
      "3    Phạm Thị D      6.5\n",
      "4   Hoàng Văn E      8.0\n"
     ]
    }
   ],
   "source": [
    "# Câu 2: Tạo DataFrame từ dictionary series\n",
    "data = {\n",
    "    \"Họ tên\" : pd.Series(['Nguyễn Văn A', 'Trần Thị B', 'Lê Văn C', 'Phạm Thị D', 'Hoàng Văn E']),\n",
    "    \"Điểm TB\" : pd.Series([8.5, 7.0, 9.0, 6.5, 8.0])\n",
    "}\n",
    "df_students = pd.DataFrame(data)\n",
    "print(\"\\nDataFrame sinh viên:\")\n",
    "print(df_students)"
   ]
  },
  {
   "cell_type": "code",
   "execution_count": 6,
   "id": "b403e496",
   "metadata": {},
   "outputs": [
    {
     "name": "stdout",
     "output_type": "stream",
     "text": [
      "\n",
      "DataFrame từ mảng NumPy:\n",
      "   A  B  C\n",
      "0  1  2  3\n",
      "1  4  5  6\n",
      "2  7  8  9\n"
     ]
    }
   ],
   "source": [
    "# Câu 3: Tạo DataFrame từ NumPy ndArray\n",
    "arr = np.array([[1, 2, 3], [4, 5, 6], [7, 8, 9]])\n",
    "columns = ['A', 'B', 'C', 'D'][:arr.shape[1]]\n",
    "df_array = pd.DataFrame(arr, columns=columns)\n",
    "print(\"\\nDataFrame từ mảng NumPy:\")\n",
    "print(df_array)"
   ]
  },
  {
   "cell_type": "code",
   "execution_count": 7,
   "id": "5ffdc621",
   "metadata": {},
   "outputs": [
    {
     "name": "stdout",
     "output_type": "stream",
     "text": [
      "\n",
      "DataFrame ban đầu:\n",
      "          A         B         C         D\n",
      "0  0.378520 -0.426654 -0.478866 -0.843072\n",
      "1  1.984547 -0.162844  0.624601 -0.892877\n",
      "2  0.696882  0.351556 -0.228205  0.109343\n",
      "3 -0.635766  0.148374 -2.502491 -1.752811\n",
      "4 -0.230509 -0.732175 -0.218769 -1.529136\n",
      "5 -0.197755  0.589582  0.122785  0.645472\n",
      "6  2.289646  1.140452  1.288143  0.177064\n",
      "7  1.598247  1.181638  0.949358 -0.243071\n",
      "8  0.996437  1.365367  0.560218  0.395638\n",
      "9  1.474279  2.616113 -1.957357 -1.879170\n",
      "\n",
      "DataFrame sau khi sắp xếp theo chỉ số giảm dần:\n",
      "          D         C         B         A\n",
      "0 -0.843072 -0.478866 -0.426654  0.378520\n",
      "1 -0.892877  0.624601 -0.162844  1.984547\n",
      "2  0.109343 -0.228205  0.351556  0.696882\n",
      "3 -1.752811 -2.502491  0.148374 -0.635766\n",
      "4 -1.529136 -0.218769 -0.732175 -0.230509\n",
      "5  0.645472  0.122785  0.589582 -0.197755\n",
      "6  0.177064  1.288143  1.140452  2.289646\n",
      "7 -0.243071  0.949358  1.181638  1.598247\n",
      "8  0.395638  0.560218  1.365367  0.996437\n",
      "9 -1.879170 -1.957357  2.616113  1.474279\n",
      "\n",
      "DataFrame sau khi sắp xếp theo cột B giảm dần:\n",
      "          D         C         B         A\n",
      "9 -1.879170 -1.957357  2.616113  1.474279\n",
      "8  0.395638  0.560218  1.365367  0.996437\n",
      "7 -0.243071  0.949358  1.181638  1.598247\n",
      "6  0.177064  1.288143  1.140452  2.289646\n",
      "5  0.645472  0.122785  0.589582 -0.197755\n",
      "2  0.109343 -0.228205  0.351556  0.696882\n",
      "3 -1.752811 -2.502491  0.148374 -0.635766\n",
      "1 -0.892877  0.624601 -0.162844  1.984547\n",
      "0 -0.843072 -0.478866 -0.426654  0.378520\n",
      "4 -1.529136 -0.218769 -0.732175 -0.230509\n"
     ]
    }
   ],
   "source": [
    "# Câu 4: Tạo DataFrame và dùng sorting\n",
    "\n",
    "df = pd.DataFrame(np.random.randn(10, 4), columns=['A', 'B', 'C', 'D'])\n",
    "print(\"\\nDataFrame ban đầu:\")\n",
    "print(df)\n",
    "df.sort_index(axis = 1, ascending=False, inplace=True)\n",
    "print(\"\\nDataFrame sau khi sắp xếp theo chỉ số giảm dần:\")\n",
    "print(df)\n",
    "df.sort_values(by='B', ascending=False, inplace=True)\n",
    "print(\"\\nDataFrame sau khi sắp xếp theo cột B giảm dần:\")\n",
    "print(df)"
   ]
  },
  {
   "cell_type": "code",
   "execution_count": 8,
   "id": "7e6996ea",
   "metadata": {},
   "outputs": [
    {
     "name": "stdout",
     "output_type": "stream",
     "text": [
      "\n",
      "Chọn cột A và B:\n",
      "          A         B\n",
      "9  1.474279  2.616113\n",
      "8  0.996437  1.365367\n",
      "7  1.598247  1.181638\n",
      "6  2.289646  1.140452\n",
      "5 -0.197755  0.589582\n",
      "2  0.696882  0.351556\n",
      "3 -0.635766  0.148374\n",
      "1  1.984547 -0.162844\n",
      "0  0.378520 -0.426654\n",
      "4 -0.230509 -0.732175\n",
      "\n",
      "DataFrame sau khi xóa cột D:\n",
      "          C         B         A\n",
      "9 -1.957357  2.616113  1.474279\n",
      "8  0.560218  1.365367  0.996437\n",
      "7  0.949358  1.181638  1.598247\n",
      "6  1.288143  1.140452  2.289646\n",
      "5  0.122785  0.589582 -0.197755\n",
      "2 -0.228205  0.351556  0.696882\n",
      "3 -2.502491  0.148374 -0.635766\n",
      "1  0.624601 -0.162844  1.984547\n",
      "0 -0.478866 -0.426654  0.378520\n",
      "4 -0.218769 -0.732175 -0.230509\n",
      "\n",
      "DataFrame của cột C:\n",
      "9   -1.957357\n",
      "8    0.560218\n",
      "7    0.949358\n",
      "6    1.288143\n",
      "5    0.122785\n",
      "2   -0.228205\n",
      "3   -2.502491\n",
      "1    0.624601\n",
      "0   -0.478866\n",
      "4   -0.218769\n",
      "Name: C, dtype: float64\n"
     ]
    }
   ],
   "source": [
    "# Câu 5: Select, Add, Delete, Insert, Assign columns\n",
    "print(\"\\nChọn cột A và B:\")\n",
    "print(df[['A', 'B']])\n",
    "\n",
    "del df['D']\n",
    "print(\"\\nDataFrame sau khi xóa cột D:\")\n",
    "print(df)\n",
    "\n",
    "third_col = df.pop('C')\n",
    "print(\"\\nDataFrame của cột C:\")\n",
    "print(third_col)"
   ]
  },
  {
   "cell_type": "code",
   "execution_count": 9,
   "id": "0822f235",
   "metadata": {},
   "outputs": [
    {
     "name": "stdout",
     "output_type": "stream",
     "text": [
      "\n",
      "DataFrame sau khi chèn lại cột Q:\n",
      "          B         A         Q\n",
      "9  2.616113  1.474279 -1.957357\n",
      "8  1.365367  0.996437  0.560218\n",
      "7  1.181638  1.598247  0.949358\n",
      "6  1.140452  2.289646  1.288143\n",
      "5  0.589582 -0.197755  0.122785\n",
      "2  0.351556  0.696882 -0.228205\n",
      "3  0.148374 -0.635766 -2.502491\n",
      "1 -0.162844  1.984547  0.624601\n",
      "0 -0.426654  0.378520 -0.478866\n",
      "4 -0.732175 -0.230509 -0.218769\n"
     ]
    }
   ],
   "source": [
    "df.insert(2, 'Q', third_col)\n",
    "print(\"\\nDataFrame sau khi chèn lại cột Q:\")\n",
    "print(df)"
   ]
  },
  {
   "cell_type": "code",
   "execution_count": 10,
   "id": "3867c690",
   "metadata": {},
   "outputs": [
    {
     "name": "stdout",
     "output_type": "stream",
     "text": [
      "\n",
      "DataFrame sau khi thêm cột E, F, G và H:\n",
      "          B         A         Q         E         F         G          H\n",
      "9  2.616113  1.474279 -1.957357  4.090391 -1.141834  3.856879   0.563538\n",
      "8  1.365367  0.996437  0.560218  2.361804 -0.368930  1.360503   0.729795\n",
      "7  1.181638  1.598247  0.949358  2.779886  0.416609  1.888551   1.352569\n",
      "6  1.140452  2.289646  1.288143  3.430097  1.149194  2.611231   2.007665\n",
      "5  0.589582 -0.197755  0.122785  0.391827 -0.787337 -0.116593  -0.335416\n",
      "2  0.351556  0.696882 -0.228205  1.048438  0.345326  0.244993   1.982279\n",
      "3  0.148374 -0.635766 -2.502491 -0.487392 -0.784140 -0.094331  -4.284887\n",
      "1 -0.162844  1.984547  0.624601  1.821703  2.147391 -0.323172 -12.186775\n",
      "0 -0.426654  0.378520 -0.478866 -0.048133  0.805174 -0.161497  -0.887184\n",
      "4 -0.732175 -0.230509 -0.218769 -0.962684  0.501667  0.168773   0.314827\n"
     ]
    }
   ],
   "source": [
    "df = df.assign(E = df['A'] + df['B'], F = df['A'] - df['B'], G = df['A'] * df['B'], H = df['A'] / df['B'])\n",
    "print(\"\\nDataFrame sau khi thêm cột E, F, G và H:\")\n",
    "print(df)"
   ]
  },
  {
   "cell_type": "code",
   "execution_count": 11,
   "id": "63e44d6d",
   "metadata": {},
   "outputs": [
    {
     "name": "stdout",
     "output_type": "stream",
     "text": [
      "\n",
      "DataFrame sau khi lọc các hàng có giá trị cột A > 0:\n",
      "          B         A         Q         E         F         G          H\n",
      "9  2.616113  1.474279 -1.957357  4.090391 -1.141834  3.856879   0.563538\n",
      "8  1.365367  0.996437  0.560218  2.361804 -0.368930  1.360503   0.729795\n",
      "7  1.181638  1.598247  0.949358  2.779886  0.416609  1.888551   1.352569\n",
      "6  1.140452  2.289646  1.288143  3.430097  1.149194  2.611231   2.007665\n",
      "2  0.351556  0.696882 -0.228205  1.048438  0.345326  0.244993   1.982279\n",
      "1 -0.162844  1.984547  0.624601  1.821703  2.147391 -0.323172 -12.186775\n",
      "0 -0.426654  0.378520 -0.478866 -0.048133  0.805174 -0.161497  -0.887184\n"
     ]
    }
   ],
   "source": [
    "# Câu 6: Filter rows\n",
    "filtered_df = df[df['A'] > 0]\n",
    "print(\"\\nDataFrame sau khi lọc các hàng có giá trị cột A > 0:\")\n",
    "print(filtered_df)"
   ]
  },
  {
   "cell_type": "code",
   "execution_count": 12,
   "id": "52eaf8cc",
   "metadata": {},
   "outputs": [
    {
     "name": "stdout",
     "output_type": "stream",
     "text": [
      "\n",
      "Sử dụng loc:\n",
      "          A         B         E\n",
      "9  1.474279  2.616113  4.090391\n",
      "8  0.996437  1.365367  2.361804\n",
      "7  1.598247  1.181638  2.779886\n",
      "6  2.289646  1.140452  3.430097\n",
      "2  0.696882  0.351556  1.048438\n",
      "1  1.984547 -0.162844  1.821703\n",
      "0  0.378520 -0.426654 -0.048133\n",
      "\n",
      "Sử dụng iloc:\n",
      "          B         A         E\n",
      "4 -0.732175 -0.230509 -0.962684\n",
      "0 -0.426654  0.378520 -0.048133\n",
      "1 -0.162844  1.984547  1.821703\n",
      "3  0.148374 -0.635766 -0.487392\n",
      "7  1.181638  1.598247  2.779886\n",
      "8  1.365367  0.996437  2.361804\n",
      "9  2.616113  1.474279  4.090391\n"
     ]
    }
   ],
   "source": [
    "# dùng loc và iloc\n",
    "print(\"\\nSử dụng loc:\")\n",
    "print(df.loc[filtered_df.index, ['A', 'B', 'E']])\n",
    "print(\"\\nSử dụng iloc:\")\n",
    "print(df.iloc[filtered_df.index, [0, 1, 3]])"
   ]
  },
  {
   "cell_type": "code",
   "execution_count": 13,
   "id": "1321f885",
   "metadata": {},
   "outputs": [
    {
     "name": "stdout",
     "output_type": "stream",
     "text": [
      "\n",
      "Bảng tổng hợp điểm theo ngành:\n",
      "         Điểm        \n",
      "         mean max min\n",
      "Ngành                \n",
      "CNTT     23.0  24  22\n",
      "Kế toán  19.0  20  18\n",
      "Luật     20.0  21  19\n"
     ]
    }
   ],
   "source": [
    "# Câu 7: Group by and Aggregate\n",
    "data = {\n",
    "    'Ngành': ['CNTT', 'CNTT', 'Kế toán', 'Kế toán', 'Luật', 'Luật'],\n",
    "    'Điểm': [22, 24, 18, 20, 19, 21]\n",
    "}\n",
    "df = pd.DataFrame(data)\n",
    "grouped = df.groupby('Ngành').agg({'Điểm': ['mean', 'max', 'min']})\n",
    "print(\"\\nBảng tổng hợp điểm theo ngành:\")\n",
    "print(grouped)\n"
   ]
  },
  {
   "cell_type": "code",
   "execution_count": 14,
   "id": "8e8bb3ee",
   "metadata": {},
   "outputs": [
    {
     "name": "stdout",
     "output_type": "stream",
     "text": [
      "\n",
      "DataFrame sau khi merge:\n",
      "   MSSV        Họ tên  Điểm\n",
      "0     1  Nguyễn Văn A     8\n",
      "1     2    Trần Thị B     9\n",
      "\n",
      "DataFrame sau khi concatenate:\n",
      "   MSSV        Họ tên  Điểm\n",
      "0     1  Nguyễn Văn A   NaN\n",
      "1     2    Trần Thị B   NaN\n",
      "2     3      Lê Văn C   NaN\n",
      "3     1           NaN   8.0\n",
      "4     2           NaN   9.0\n",
      "5     4           NaN   7.0\n"
     ]
    }
   ],
   "source": [
    "# Câu 8: Merge, Join, Concatenate\n",
    "df1 = pd.DataFrame({\n",
    "    'MSSV': [1, 2, 3],\n",
    "    'Họ tên': ['Nguyễn Văn A', 'Trần Thị B', 'Lê Văn C']\n",
    "})\n",
    "df2 = pd.DataFrame({\n",
    "    'MSSV': [1, 2, 4],\n",
    "    'Điểm': [8, 9, 7]\n",
    "})\n",
    "merged_df = pd.merge(df1, df2, on='MSSV', how='inner')\n",
    "print(\"\\nDataFrame sau khi merge:\")\n",
    "print(merged_df)\n",
    "concatenated_df = pd.concat([df1, df2], ignore_index=True, sort=False)\n",
    "print(\"\\nDataFrame sau khi concatenate:\")\n",
    "print(concatenated_df)"
   ]
  },
  {
   "cell_type": "code",
   "execution_count": 15,
   "id": "d8fab1ce",
   "metadata": {},
   "outputs": [
    {
     "name": "stdout",
     "output_type": "stream",
     "text": [
      "\n",
      "Bảng pivot của chỉ tiêu theo ngành và năm:\n",
      "Năm      2022  2023\n",
      "Ngành              \n",
      "CNTT      400   450\n",
      "Kế toán   300   320\n",
      "Luật      500   550\n"
     ]
    }
   ],
   "source": [
    "# Câu 9: Pivot tables\n",
    "data = {\n",
    "    'Ngành': ['CNTT', 'CNTT', 'Kế toán', 'Kế toán', 'Luật', 'Luật'],\n",
    "    'Năm': [2022, 2023, 2022, 2023, 2022, 2023],\n",
    "    'Chỉ tiêu': [400, 450, 300, 320, 500, 550]\n",
    "}\n",
    "df = pd.DataFrame(data)\n",
    "pivot_table = df.pivot_table(values='Chỉ tiêu', index='Ngành', columns='Năm', aggfunc='sum', fill_value=0)\n",
    "print(\"\\nBảng pivot của chỉ tiêu theo ngành và năm:\")\n",
    "print(pivot_table)"
   ]
  },
  {
   "cell_type": "code",
   "execution_count": 16,
   "id": "7d504fb6",
   "metadata": {},
   "outputs": [
    {
     "name": "stdout",
     "output_type": "stream",
     "text": [
      "\n",
      "Đọc file FIFA 2019:\n",
      "                Name  Age                                           Photo  \\\n",
      "0           L. Messi   31  https://cdn.sofifa.org/players/4/19/158023.png   \n",
      "1  Cristiano Ronaldo   33   https://cdn.sofifa.org/players/4/19/20801.png   \n",
      "2          Neymar Jr   26  https://cdn.sofifa.org/players/4/19/190871.png   \n",
      "3             De Gea   27  https://cdn.sofifa.org/players/4/19/193080.png   \n",
      "4       K. De Bruyne   27  https://cdn.sofifa.org/players/4/19/192985.png   \n",
      "\n",
      "                  Club  \n",
      "0         FC Barcelona  \n",
      "1             Juventus  \n",
      "2  Paris Saint-Germain  \n",
      "3    Manchester United  \n",
      "4      Manchester City  \n",
      "\n",
      "Đọc file thời tiết:\n",
      "       pickup_datetime      wgustm  wgusti\n",
      "0  2015-12-31 00:15:00  Light Rain    rain\n",
      "1  2015-12-31 00:42:00    Overcast  cloudy\n",
      "2  2015-12-31 00:51:00    Overcast  cloudy\n",
      "3  2015-12-31 01:51:00    Overcast  cloudy\n",
      "4  2015-12-31 02:51:00    Overcast  cloudy\n"
     ]
    }
   ],
   "source": [
    "# Câu 10: Đọc file CSV, Excel, JSON, HTML, SQL\n",
    "# Đọc file CSV\n",
    "df_csv1 = pd.read_csv('fifa19.csv', usecols=['Name', 'Age', 'Photo', 'Club'])\n",
    "df_csv2 = pd.read_csv('weather.csv', usecols= ['pickup_datetime', 'wgustm', 'wgusti'])\n",
    "print(\"\\nĐọc file FIFA 2019:\")\n",
    "print(df_csv1.head())\n",
    "print(\"\\nĐọc file thời tiết:\")\n",
    "print(df_csv2.head())"
   ]
  },
  {
   "cell_type": "code",
   "execution_count": 17,
   "id": "de84fb1f",
   "metadata": {},
   "outputs": [
    {
     "name": "stdout",
     "output_type": "stream",
     "text": [
      "\n",
      "Đọc file khách hàng từ Excel:\n"
     ]
    },
    {
     "data": {
      "text/html": [
       "<div>\n",
       "<style scoped>\n",
       "    .dataframe tbody tr th:only-of-type {\n",
       "        vertical-align: middle;\n",
       "    }\n",
       "\n",
       "    .dataframe tbody tr th {\n",
       "        vertical-align: top;\n",
       "    }\n",
       "\n",
       "    .dataframe thead th {\n",
       "        text-align: right;\n",
       "    }\n",
       "</style>\n",
       "<table border=\"1\" class=\"dataframe\">\n",
       "  <thead>\n",
       "    <tr style=\"text-align: right;\">\n",
       "      <th></th>\n",
       "      <th>Fullname</th>\n",
       "      <th>Gender</th>\n",
       "      <th>Phone Number</th>\n",
       "      <th>Date of Birth</th>\n",
       "      <th>Address</th>\n",
       "      <th>Company Name</th>\n",
       "    </tr>\n",
       "  </thead>\n",
       "  <tbody>\n",
       "    <tr>\n",
       "      <th>0</th>\n",
       "      <td>Trương Thuần Hậu</td>\n",
       "      <td>Nữ</td>\n",
       "      <td>378331569</td>\n",
       "      <td>16/03/2004</td>\n",
       "      <td>Số 139, Đường Lê Lợi, Xã Thạch Ngàn, Huyện Con...</td>\n",
       "      <td>Công ty TNHH Bia Sapporo</td>\n",
       "    </tr>\n",
       "    <tr>\n",
       "      <th>1</th>\n",
       "      <td>Trần Huy Khiêm</td>\n",
       "      <td>Nam</td>\n",
       "      <td>936899552</td>\n",
       "      <td>06/11/1989</td>\n",
       "      <td>Số 645, Đường Lê Lợi, Phường Hòa Khánh Bắc, Qu...</td>\n",
       "      <td>Công ty CP bánh kẹo Biển Xanh</td>\n",
       "    </tr>\n",
       "    <tr>\n",
       "      <th>2</th>\n",
       "      <td>Dương Việt Khải</td>\n",
       "      <td>Nam</td>\n",
       "      <td>910140331</td>\n",
       "      <td>22/02/1986</td>\n",
       "      <td>Số 34, Đường Lê Lợi, Xã An Nhân, Huyện Vĩnh Tư...</td>\n",
       "      <td>Mặt Trời Vàng</td>\n",
       "    </tr>\n",
       "    <tr>\n",
       "      <th>3</th>\n",
       "      <td>Lý Bữu Toại</td>\n",
       "      <td>Nam</td>\n",
       "      <td>331560633</td>\n",
       "      <td>01/04/1993</td>\n",
       "      <td>Số 321, Đường Trần Hưng Đạo, Xã San Thàng, Thà...</td>\n",
       "      <td>Công ty Cổ phần Thực phẩm Dinh dưỡng NutiFood</td>\n",
       "    </tr>\n",
       "    <tr>\n",
       "      <th>4</th>\n",
       "      <td>Phạm Minh Hà</td>\n",
       "      <td>Nữ</td>\n",
       "      <td>928474406</td>\n",
       "      <td>16/02/1991</td>\n",
       "      <td>Số 621, Đường Lê Lợi, Phường Nhơn Hoà, Thị xã ...</td>\n",
       "      <td>Công ty Cổ phần Acecook Việt Nam</td>\n",
       "    </tr>\n",
       "  </tbody>\n",
       "</table>\n",
       "</div>"
      ],
      "text/plain": [
       "           Fullname Gender  Phone Number Date of Birth  \\\n",
       "0  Trương Thuần Hậu     Nữ     378331569    16/03/2004   \n",
       "1    Trần Huy Khiêm    Nam     936899552    06/11/1989   \n",
       "2   Dương Việt Khải    Nam     910140331    22/02/1986   \n",
       "3       Lý Bữu Toại    Nam     331560633    01/04/1993   \n",
       "4      Phạm Minh Hà     Nữ     928474406    16/02/1991   \n",
       "\n",
       "                                             Address  \\\n",
       "0  Số 139, Đường Lê Lợi, Xã Thạch Ngàn, Huyện Con...   \n",
       "1  Số 645, Đường Lê Lợi, Phường Hòa Khánh Bắc, Qu...   \n",
       "2  Số 34, Đường Lê Lợi, Xã An Nhân, Huyện Vĩnh Tư...   \n",
       "3  Số 321, Đường Trần Hưng Đạo, Xã San Thàng, Thà...   \n",
       "4  Số 621, Đường Lê Lợi, Phường Nhơn Hoà, Thị xã ...   \n",
       "\n",
       "                                    Company Name  \n",
       "0                       Công ty TNHH Bia Sapporo  \n",
       "1                  Công ty CP bánh kẹo Biển Xanh  \n",
       "2                                  Mặt Trời Vàng  \n",
       "3  Công ty Cổ phần Thực phẩm Dinh dưỡng NutiFood  \n",
       "4               Công ty Cổ phần Acecook Việt Nam  "
      ]
     },
     "metadata": {},
     "output_type": "display_data"
    }
   ],
   "source": [
    "from IPython.display import display\n",
    "\n",
    "# Đọc file Excel\n",
    "df_excel = pd.read_excel('data_customers.xlsx')\n",
    "print(\"\\nĐọc file khách hàng từ Excel:\")\n",
    "# Hiển thị đẹp hơn với pandas, có thể dùng display hoặc style\n",
    "display(df_excel.head())"
   ]
  },
  {
   "cell_type": "code",
   "execution_count": 18,
   "id": "d23ad2ec",
   "metadata": {},
   "outputs": [
    {
     "name": "stdout",
     "output_type": "stream",
     "text": [
      "\n",
      "Đọc file tỉnh thành từ JSON:\n"
     ]
    },
    {
     "data": {
      "text/html": [
       "<div>\n",
       "<style scoped>\n",
       "    .dataframe tbody tr th:only-of-type {\n",
       "        vertical-align: middle;\n",
       "    }\n",
       "\n",
       "    .dataframe tbody tr th {\n",
       "        vertical-align: top;\n",
       "    }\n",
       "\n",
       "    .dataframe thead th {\n",
       "        text-align: right;\n",
       "    }\n",
       "</style>\n",
       "<table border=\"1\" class=\"dataframe\">\n",
       "  <thead>\n",
       "    <tr style=\"text-align: right;\">\n",
       "      <th></th>\n",
       "      <th>code</th>\n",
       "      <th>name</th>\n",
       "    </tr>\n",
       "  </thead>\n",
       "  <tbody>\n",
       "    <tr>\n",
       "      <th>0</th>\n",
       "      <td>01</td>\n",
       "      <td>Thành phố Hà Nội</td>\n",
       "    </tr>\n",
       "    <tr>\n",
       "      <th>1</th>\n",
       "      <td>04</td>\n",
       "      <td>Tỉnh Cao Bằng</td>\n",
       "    </tr>\n",
       "    <tr>\n",
       "      <th>2</th>\n",
       "      <td>08</td>\n",
       "      <td>Tỉnh Tuyên Quang</td>\n",
       "    </tr>\n",
       "    <tr>\n",
       "      <th>3</th>\n",
       "      <td>11</td>\n",
       "      <td>Tỉnh Điện Biên</td>\n",
       "    </tr>\n",
       "    <tr>\n",
       "      <th>4</th>\n",
       "      <td>12</td>\n",
       "      <td>Tỉnh Lai Châu</td>\n",
       "    </tr>\n",
       "  </tbody>\n",
       "</table>\n",
       "</div>"
      ],
      "text/plain": [
       "  code              name\n",
       "0   01  Thành phố Hà Nội\n",
       "1   04     Tỉnh Cao Bằng\n",
       "2   08  Tỉnh Tuyên Quang\n",
       "3   11    Tỉnh Điện Biên\n",
       "4   12     Tỉnh Lai Châu"
      ]
     },
     "metadata": {},
     "output_type": "display_data"
    }
   ],
   "source": [
    "from IPython.display import display\n",
    "\n",
    "# Đọc file JSON\n",
    "data = pd.read_json(\"provinces.json\")\n",
    "\n",
    "# Lấy phần 'provinces' (danh sách tỉnh/thành)\n",
    "df_json = pd.DataFrame(data[\"provinces\"].tolist())\n",
    "\n",
    "print(\"\\nĐọc file tỉnh thành từ JSON:\")\n",
    "display(df_json[[\"code\", \"name\"]].head())"
   ]
  }
 ],
 "metadata": {
  "kernelspec": {
   "display_name": "Python 3",
   "language": "python",
   "name": "python3"
  },
  "language_info": {
   "codemirror_mode": {
    "name": "ipython",
    "version": 3
   },
   "file_extension": ".py",
   "mimetype": "text/x-python",
   "name": "python",
   "nbconvert_exporter": "python",
   "pygments_lexer": "ipython3",
   "version": "3.13.5"
  }
 },
 "nbformat": 4,
 "nbformat_minor": 5
}
