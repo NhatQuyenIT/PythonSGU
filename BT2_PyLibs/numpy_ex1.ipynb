{
 "cells": [
  {
   "cell_type": "code",
   "execution_count": null,
   "id": "98b87b82",
   "metadata": {},
   "outputs": [
    {
     "name": "stdout",
     "output_type": "stream",
     "text": [
      "Cộng: [5 7 9]\n",
      "Trừ: [-3 -3 -3]\n",
      "Nhân: [ 4 10 18]\n",
      "Chia: [0.25 0.4  0.5 ]\n",
      "Lũy thừa: [1 4 9]\n",
      "Căn bậc hai: [1.         1.41421356 1.73205081]\n",
      "Logarit: [0.         0.69314718 1.09861229]\n",
      "Tổng: 6\n"
     ]
    }
   ],
   "source": [
    "# 1. Tạo vector 1 chiều và thực hiện các phép toán\n",
    "import numpy as np\n",
    "\n",
    "a = np.array([1, 2, 3])\n",
    "b = np.array([4, 5, 6])\n",
    "\n",
    "print(\"Cộng:\", a + b)\n",
    "print(\"Trừ:\", a - b)\n",
    "print(\"Nhân:\", a * b)\n",
    "print(\"Chia:\", a / b)\n",
    "print(\"Lũy thừa:\", a ** 2)\n",
    "print(\"Căn bậc hai:\", np.sqrt(a))\n",
    "print(\"Logarit:\", np.log(a))\n",
    "print(\"Tổng:\", np.sum(a))"
   ]
  },
  {
   "cell_type": "code",
   "execution_count": null,
   "id": "a95bddf4",
   "metadata": {},
   "outputs": [],
   "source": [
    "# print(\"Determinant:\", np.linalg.det(np.array([[1,2],[3,4]])))\n",
    "# print(\"Inverse:\\n\", np.linalg.inv(np.array([[1,2],[3,4]])))\n",
    "# print(\"Rank:\", np.linalg.matrix_rank(np.array([[1,2],[3,4]])))\n",
    "# print(\"SVD:\\n\", np.linalg.svd(np.array([[1,2],[3,4]])))\n",
    "# print(\"Cholesky:\\n\", np.linalg.cholesky(np.array([[4,2],[2,3]])))\n",
    "# print(\"QR Decomposition:\\n\", np.linalg.qr(np.array([[1,2],[3,4]])))\n",
    "# print(\"Norm:\", np.linalg.norm(np.array([[1,2],[3,4]])))\n",
    "# print(\"Solve Ax = b:\", np.linalg.solve(np.array([[1,2],[3,4]]), np.array([5,11])))\n",
    "# print(\"Eigenvalues and Eigenvectors:\", np.linalg.eig(np.array([[1,2],[3,4]])))\n",
    "# print(\"Matrix Exponential:\\n\", np.linalg.expm(np.array([[1,2],[3,4]])))"
   ]
  },
  {
   "cell_type": "code",
   "execution_count": null,
   "id": "6a377953",
   "metadata": {},
   "outputs": [
    {
     "name": "stdout",
     "output_type": "stream",
     "text": [
      "[-2  1  4]\n",
      "[2. 3.]\n",
      "[0.4472136  0.70710678 0.89442719]\n",
      "<class 'numpy.ndarray'> <class 'numpy.ndarray'>\n",
      "Eigenvalues: [3. 2.]\n",
      "Eigenvectors:\n",
      " [[0.89442719 0.70710678]\n",
      " [0.4472136  0.70710678]]\n"
     ]
    }
   ],
   "source": [
    "A = np.array([[4, -2], [1, 1]])\n",
    "w, v = np.linalg.eig(A) # Tính giá trị riêng và vectơ riêng của ma trận vuông\n",
    "print(np.unique(A))\n",
    "print(np.unique(w))\n",
    "print(np.unique(v))\n",
    "print(type(w), type(v))\n",
    "print(\"Eigenvalues:\", w)\n",
    "print(\"Eigenvectors:\\n\", v)"
   ]
  },
  {
   "cell_type": "code",
   "execution_count": null,
   "id": "91a9ab71",
   "metadata": {},
   "outputs": [
    {
     "name": "stdout",
     "output_type": "stream",
     "text": [
      "Tích vô hướng: 32\n"
     ]
    }
   ],
   "source": [
    "# 2. Tích vô hướng (dot product) 2 vector\n",
    "print(\"Tích vô hướng:\", np.dot(a, b))"
   ]
  },
  {
   "cell_type": "code",
   "execution_count": 12,
   "id": "bc2e9baa",
   "metadata": {},
   "outputs": [
    {
     "name": "stdout",
     "output_type": "stream",
     "text": [
      "A + B =\n",
      " [[ 6  8]\n",
      " [10 12]]\n",
      "A - B =\n",
      " [[-4 -4]\n",
      " [-4 -4]]\n",
      "A * B =\n",
      " [[ 5 12]\n",
      " [21 32]]\n",
      "A / B =\n",
      " [[0.2        0.33333333]\n",
      " [0.42857143 0.5       ]]\n",
      "A @ B =\n",
      " [[19 22]\n",
      " [43 50]]\n",
      "A / B =\n",
      " [[ 3. -2.]\n",
      " [ 2. -1.]]\n"
     ]
    }
   ],
   "source": [
    "A = np.array([[1, 2], [3, 4]])\n",
    "B = np.array([[5, 6], [7, 8]])\n",
    "\n",
    "print(\"A + B =\\n\", A + B)\n",
    "print(\"A - B =\\n\", A - B)\n",
    "print(\"A * B =\\n\", A * B)  # Phép nhân phần tử\n",
    "print(\"A / B =\\n\", A / B)  # Phép chia phần tử\n",
    "print(\"A @ B =\\n\", A @ B)  # Phép nhân ma trận hoặc dùng np.matmul(A, B)\n",
    "print(\"A / B =\\n\", np.linalg.solve(B.T, A.T).T)  # Phép chia 2 ma trận"
   ]
  },
  {
   "cell_type": "code",
   "execution_count": 14,
   "id": "5e81f0df",
   "metadata": {},
   "outputs": [
    {
     "name": "stdout",
     "output_type": "stream",
     "text": [
      "A.T =\n",
      " [[1 3]\n",
      " [2 4]]\n",
      "B.T =\n",
      " [[5 7]\n",
      " [6 8]]\n"
     ]
    }
   ],
   "source": [
    "# 3. Ma trận chuyển vị\n",
    "print(\"A.T =\\n\", A.T)\n",
    "print(\"B.T =\\n\", B.T)"
   ]
  },
  {
   "cell_type": "code",
   "execution_count": 15,
   "id": "0ca3d3bb",
   "metadata": {},
   "outputs": [
    {
     "name": "stdout",
     "output_type": "stream",
     "text": [
      "Dòng 0 của A: [1 2]\n",
      "Cột 1 của A: [2 4]\n",
      "Dòng 1 của B: [7 8]\n"
     ]
    }
   ],
   "source": [
    "# 4. Lấy 1 dòng / 1 cột của ma trận\n",
    "print(\"Dòng 0 của A:\", A[0, :])\n",
    "print(\"Cột 1 của A:\", A[:, 1])\n",
    "print(\"Dòng 1 của B:\", B[1]) "
   ]
  },
  {
   "cell_type": "code",
   "execution_count": 16,
   "id": "48f6f210",
   "metadata": {},
   "outputs": [
    {
     "name": "stdout",
     "output_type": "stream",
     "text": [
      "Determinant of A: -2.0000000000000004\n",
      "Determinant of B: -2.000000000000005\n"
     ]
    }
   ],
   "source": [
    "# 5. Tính định thức ma trận\n",
    "print(\"Determinant of A:\", np.linalg.det(A))\n",
    "print(\"Determinant of B:\", np.linalg.det(B))"
   ]
  },
  {
   "cell_type": "code",
   "execution_count": null,
   "id": "62b2e484",
   "metadata": {},
   "outputs": [
    {
     "data": {
      "text/plain": [
       "array([[0, 1, 2, 3, 4],\n",
       "       [5, 6, 7, 8, 9]])"
      ]
     },
     "execution_count": 27,
     "metadata": {},
     "output_type": "execute_result"
    }
   ],
   "source": [
    "a = np.arange(10) # nên cho tổng số phần tử chẵn\n",
    "# a.reshape(3,4) # Chuyển đổi mảng 1 chiều thành mảng 2 chiều 3x4\n",
    "# a.reshape(3,4, order='F') # Chuyển đổi mảng 1 chiều thành mảng 2 chiều 3x4 theo cột\n",
    "a.reshape(2,-1) # Tự động tính toán kích thước chiều còn lại, có 2 hàng mỗi hàng 5 phần tử, -1 là để numpy tự tính số cột"
   ]
  },
  {
   "cell_type": "code",
   "execution_count": 21,
   "id": "717390a6",
   "metadata": {},
   "outputs": [
    {
     "name": "stdout",
     "output_type": "stream",
     "text": [
      "C =\n",
      " [[1 2]\n",
      " [3 4]\n",
      " [5 6]\n",
      " [7 8]]\n",
      "C[:2] =\n",
      " [[1 2]\n",
      " [3 4]]\n",
      "C[2:] =\n",
      " [[5 6]\n",
      " [7 8]]\n",
      "tach1 =\n",
      " [[1 2]\n",
      " [3 4]]\n",
      "tach2 =\n",
      " [[5 6]\n",
      " [7 8]]\n"
     ]
    }
   ],
   "source": [
    "# 6. Nối và tách mảng\n",
    "C = np.concatenate((A, B), axis=0)\n",
    "print(\"C =\\n\", C)\n",
    "print(\"C[:2] =\\n\", C[:2]) # Lấy 2 dòng đầu\n",
    "print(\"C[2:] =\\n\", C[2:]) # Lấy 2 dòng cuối\n",
    "\n",
    "tach1, tach2 = np.split(C, 2, axis=0) # Tách C thành 2 mảng theo chiều dọc\n",
    "print(\"tach1 =\\n\", tach1)\n",
    "print(\"tach2 =\\n\", tach2)"
   ]
  },
  {
   "cell_type": "code",
   "execution_count": null,
   "id": "23fd01f4",
   "metadata": {},
   "outputs": [
    {
     "name": "stdout",
     "output_type": "stream",
     "text": [
      "c =\n",
      " [[1 2 5]\n",
      " [3 4 6]]\n"
     ]
    }
   ],
   "source": [
    "# 7. Ghép mảng\n",
    "a = np.array([[1,2],[3,4]])\n",
    "b  = np.array([[5],[6]])\n",
    "c = np.concatenate((a, b), axis=1)\n",
    "print(\"c =\\n\", c) # Ghép theo chiều ngang theo 2 chiều"
   ]
  },
  {
   "cell_type": "code",
   "execution_count": 23,
   "id": "3ada6b4e",
   "metadata": {},
   "outputs": [
    {
     "name": "stdout",
     "output_type": "stream",
     "text": [
      "Ma trận ngẫu nhiên:\n",
      " [[6 6 3]\n",
      " [6 9 5]\n",
      " [8 8 2]]\n"
     ]
    }
   ],
   "source": [
    "# 8. Sinh ma trận random\n",
    "rand_mat = np.random.randint(0, 10, (3, 3))  # 3x3 số nguyên [0,10)\n",
    "print(\"Ma trận ngẫu nhiên:\\n\", rand_mat)"
   ]
  },
  {
   "cell_type": "code",
   "execution_count": 24,
   "id": "f1685b5f",
   "metadata": {},
   "outputs": [
    {
     "name": "stdout",
     "output_type": "stream",
     "text": [
      "Tensor:\n",
      " [[[1 2 3 4]\n",
      "  [4 4 4 1]\n",
      "  [3 1 2 2]]\n",
      "\n",
      " [[2 3 1 4]\n",
      "  [3 2 4 1]\n",
      "  [3 1 2 4]]]\n",
      "Tổng theo trục 0 (gộp theo ma trận):\n",
      " [[3 5 4 8]\n",
      " [7 6 8 2]\n",
      " [6 2 4 6]]\n",
      "Tổng theo trục 1 (gộp theo hàng):\n",
      " [[8 7 9 7]\n",
      " [8 6 7 9]]\n"
     ]
    }
   ],
   "source": [
    "# 9. Ma trận 3 chiều và tính tổng theo trục\n",
    "tensor = np.random.randint(1, 5, (2, 3, 4))  # 2 ma trận 3x4\n",
    "print(\"Tensor:\\n\", tensor)\n",
    "\n",
    "print(\"Tổng theo trục 0 (gộp theo ma trận):\\n\", np.sum(tensor, axis=0))\n",
    "print(\"Tổng theo trục 1 (gộp theo hàng):\\n\", np.sum(tensor, axis=1))"
   ]
  },
  {
   "cell_type": "code",
   "execution_count": 26,
   "id": "ad3dad25",
   "metadata": {},
   "outputs": [
    {
     "name": "stdout",
     "output_type": "stream",
     "text": [
      "Hệ số góc m: 0.7499999999999999\n",
      "Hệ số chặn c: 1.3899999999999992\n",
      "Phương trình hồi quy: y = 0.75x + 1.39\n",
      "Coefficients: [0.75 1.39]\n"
     ]
    }
   ],
   "source": [
    "# 10. Hồi quy đa thức bậc 1 (tuyến tính)\n",
    "x = np.array([1, 2, 3, 4, 5])\n",
    "y = np.array([2.2, 2.8, 3.6, 4.5, 5.1])\n",
    "A = np.vstack([x, np.ones(len(x))]).T\n",
    "m, c = np.linalg.lstsq(A, y, rcond=None)[0]\n",
    "print(\"Hệ số góc m:\", m)\n",
    "print(\"Hệ số chặn c:\", c)\n",
    "print(\"Phương trình hồi quy: y = {:.2f}x + {:.2f}\".format(m, c))\n",
    "coeffs = np.polyfit(x, y, 1) # Hồi quy đa thức bậc 1 (tuyến tính)\n",
    "print(\"Coefficients:\", coeffs)"
   ]
  }
 ],
 "metadata": {
  "kernelspec": {
   "display_name": "Python 3",
   "language": "python",
   "name": "python3"
  },
  "language_info": {
   "codemirror_mode": {
    "name": "ipython",
    "version": 3
   },
   "file_extension": ".py",
   "mimetype": "text/x-python",
   "name": "python",
   "nbconvert_exporter": "python",
   "pygments_lexer": "ipython3",
   "version": "3.13.5"
  }
 },
 "nbformat": 4,
 "nbformat_minor": 5
}
